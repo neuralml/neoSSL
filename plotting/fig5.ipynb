{
 "cells": [
  {
   "cell_type": "code",
   "execution_count": 1,
   "metadata": {},
   "outputs": [],
   "source": [
    "import sys\n",
    "sys.path.append('../')\n",
    "sys.path.append('../..')\n",
    "from utils import  load_exp_args, get_activations, config, TR_measure\n",
    "    \n",
    "import numpy as np"
   ]
  },
  {
   "cell_type": "code",
   "execution_count": 2,
   "metadata": {},
   "outputs": [],
   "source": [
    "experimental_data = {\n",
    "    \"L2/3\": [0.85, 0.012],\n",
    "    \"L4\": [0.77, 0.013],\n",
    "    \"L5B\": [0.56, 0.019]\n",
    "}"
   ]
  },
  {
   "cell_type": "code",
   "execution_count": 3,
   "metadata": {},
   "outputs": [],
   "source": [
    "exp_args = load_exp_args(checkpoint_dir=\"../checkpoints/gabor/shallow_mlp/fig5/args\")\n",
    "ckpt_dir_dict = {\"exp_name\": 'fig5', \"suffix_args\": ['seed',\"latent_dim\", \"hidden_dim\"], \"sub_dir\": \"\"}\n",
    "\n",
    "# n_hidden = 64"
   ]
  },
  {
   "cell_type": "code",
   "execution_count": 4,
   "metadata": {},
   "outputs": [],
   "source": [
    "# activations = get_activations(exp_args=exp_args, model_name=\"shallow_mlp\", task_name=\"gabor\", ckpt_dir_dict=ckpt_dir_dict, hidden_dim=n_hidden)"
   ]
  },
  {
   "cell_type": "markdown",
   "metadata": {},
   "source": [
    "## sparsity based on the number of hidden units"
   ]
  },
  {
   "cell_type": "code",
   "execution_count": 5,
   "metadata": {},
   "outputs": [
    {
     "name": "stdout",
     "output_type": "stream",
     "text": [
      "args.hidden_dim=128 / args.latent_dim=128\n",
      "\u001b[94mExperiment: dummy logger for loading model\u001b[0m\n",
      "\u001b[96mLoading model from /home/kevin/Documents/phd/projects/ssl_neocortical/checkpoints/gabor/shallow_mlp/fig5/model_seed_1_latent_dim_128_hidden_dim_128.pth\u001b[0m\n",
      "args.hidden_dim=16 / args.latent_dim=16\n",
      "\u001b[94mExperiment: dummy logger for loading model\u001b[0m\n",
      "\u001b[96mLoading model from /home/kevin/Documents/phd/projects/ssl_neocortical/checkpoints/gabor/shallow_mlp/fig5/model_seed_5_latent_dim_16_hidden_dim_16.pth\u001b[0m\n",
      "args.hidden_dim=32 / args.latent_dim=32\n",
      "\u001b[94mExperiment: dummy logger for loading model\u001b[0m\n",
      "\u001b[96mLoading model from /home/kevin/Documents/phd/projects/ssl_neocortical/checkpoints/gabor/shallow_mlp/fig5/model_seed_5_latent_dim_32_hidden_dim_32.pth\u001b[0m\n",
      "args.hidden_dim=16 / args.latent_dim=16\n",
      "\u001b[94mExperiment: dummy logger for loading model\u001b[0m\n",
      "\u001b[96mLoading model from /home/kevin/Documents/phd/projects/ssl_neocortical/checkpoints/gabor/shallow_mlp/fig5/model_seed_4_latent_dim_16_hidden_dim_16.pth\u001b[0m\n",
      "args.hidden_dim=16 / args.latent_dim=16\n",
      "\u001b[94mExperiment: dummy logger for loading model\u001b[0m\n",
      "\u001b[96mLoading model from /home/kevin/Documents/phd/projects/ssl_neocortical/checkpoints/gabor/shallow_mlp/fig5/model_seed_1_latent_dim_16_hidden_dim_16.pth\u001b[0m\n",
      "args.hidden_dim=128 / args.latent_dim=128\n",
      "\u001b[94mExperiment: dummy logger for loading model\u001b[0m\n",
      "\u001b[96mLoading model from /home/kevin/Documents/phd/projects/ssl_neocortical/checkpoints/gabor/shallow_mlp/fig5/model_seed_3_latent_dim_128_hidden_dim_128.pth\u001b[0m\n",
      "args.hidden_dim=128 / args.latent_dim=128\n",
      "\u001b[94mExperiment: dummy logger for loading model\u001b[0m\n",
      "\u001b[96mLoading model from /home/kevin/Documents/phd/projects/ssl_neocortical/checkpoints/gabor/shallow_mlp/fig5/model_seed_5_latent_dim_128_hidden_dim_128.pth\u001b[0m\n",
      "args.hidden_dim=128 / args.latent_dim=128\n",
      "\u001b[94mExperiment: dummy logger for loading model\u001b[0m\n",
      "\u001b[96mLoading model from /home/kevin/Documents/phd/projects/ssl_neocortical/checkpoints/gabor/shallow_mlp/fig5/model_seed_4_latent_dim_128_hidden_dim_128.pth\u001b[0m\n",
      "args.hidden_dim=16 / args.latent_dim=16\n",
      "\u001b[94mExperiment: dummy logger for loading model\u001b[0m\n",
      "\u001b[96mLoading model from /home/kevin/Documents/phd/projects/ssl_neocortical/checkpoints/gabor/shallow_mlp/fig5/model_seed_2_latent_dim_16_hidden_dim_16.pth\u001b[0m\n",
      "args.hidden_dim=32 / args.latent_dim=32\n",
      "\u001b[94mExperiment: dummy logger for loading model\u001b[0m\n",
      "\u001b[96mLoading model from /home/kevin/Documents/phd/projects/ssl_neocortical/checkpoints/gabor/shallow_mlp/fig5/model_seed_4_latent_dim_32_hidden_dim_32.pth\u001b[0m\n",
      "args.hidden_dim=32 / args.latent_dim=32\n",
      "\u001b[94mExperiment: dummy logger for loading model\u001b[0m\n",
      "\u001b[96mLoading model from /home/kevin/Documents/phd/projects/ssl_neocortical/checkpoints/gabor/shallow_mlp/fig5/model_seed_1_latent_dim_32_hidden_dim_32.pth\u001b[0m\n",
      "args.hidden_dim=32 / args.latent_dim=32\n",
      "\u001b[94mExperiment: dummy logger for loading model\u001b[0m\n",
      "\u001b[96mLoading model from /home/kevin/Documents/phd/projects/ssl_neocortical/checkpoints/gabor/shallow_mlp/fig5/model_seed_2_latent_dim_32_hidden_dim_32.pth\u001b[0m\n",
      "args.hidden_dim=128 / args.latent_dim=128\n",
      "\u001b[94mExperiment: dummy logger for loading model\u001b[0m\n",
      "\u001b[96mLoading model from /home/kevin/Documents/phd/projects/ssl_neocortical/checkpoints/gabor/shallow_mlp/fig5/model_seed_2_latent_dim_128_hidden_dim_128.pth\u001b[0m\n",
      "args.hidden_dim=64 / args.latent_dim=64\n",
      "\u001b[94mExperiment: dummy logger for loading model\u001b[0m\n",
      "\u001b[96mLoading model from /home/kevin/Documents/phd/projects/ssl_neocortical/checkpoints/gabor/shallow_mlp/fig5/model_seed_1_latent_dim_64_hidden_dim_64.pth\u001b[0m\n",
      "args.hidden_dim=16 / args.latent_dim=16\n",
      "\u001b[94mExperiment: dummy logger for loading model\u001b[0m\n",
      "\u001b[96mLoading model from /home/kevin/Documents/phd/projects/ssl_neocortical/checkpoints/gabor/shallow_mlp/fig5/model_seed_3_latent_dim_16_hidden_dim_16.pth\u001b[0m\n",
      "args.hidden_dim=64 / args.latent_dim=64\n",
      "\u001b[94mExperiment: dummy logger for loading model\u001b[0m\n",
      "\u001b[96mLoading model from /home/kevin/Documents/phd/projects/ssl_neocortical/checkpoints/gabor/shallow_mlp/fig5/model_seed_5_latent_dim_64_hidden_dim_64.pth\u001b[0m\n",
      "args.hidden_dim=64 / args.latent_dim=64\n",
      "\u001b[94mExperiment: dummy logger for loading model\u001b[0m\n",
      "\u001b[96mLoading model from /home/kevin/Documents/phd/projects/ssl_neocortical/checkpoints/gabor/shallow_mlp/fig5/model_seed_2_latent_dim_64_hidden_dim_64.pth\u001b[0m\n",
      "args.hidden_dim=64 / args.latent_dim=64\n",
      "\u001b[94mExperiment: dummy logger for loading model\u001b[0m\n",
      "\u001b[96mLoading model from /home/kevin/Documents/phd/projects/ssl_neocortical/checkpoints/gabor/shallow_mlp/fig5/model_seed_3_latent_dim_64_hidden_dim_64.pth\u001b[0m\n",
      "args.hidden_dim=64 / args.latent_dim=64\n",
      "\u001b[94mExperiment: dummy logger for loading model\u001b[0m\n",
      "\u001b[96mLoading model from /home/kevin/Documents/phd/projects/ssl_neocortical/checkpoints/gabor/shallow_mlp/fig5/model_seed_4_latent_dim_64_hidden_dim_64.pth\u001b[0m\n",
      "args.hidden_dim=32 / args.latent_dim=32\n",
      "\u001b[94mExperiment: dummy logger for loading model\u001b[0m\n",
      "\u001b[96mLoading model from /home/kevin/Documents/phd/projects/ssl_neocortical/checkpoints/gabor/shallow_mlp/fig5/model_seed_3_latent_dim_32_hidden_dim_32.pth\u001b[0m\n"
     ]
    }
   ],
   "source": [
    "n_hiddens = [16, 32, 64, 128]\n",
    "baseline=False\n",
    "activations_all = get_activations(exp_args=exp_args, model_name=\"shallow_mlp\", task_name=\"gabor\", ckpt_dir_dict=ckpt_dir_dict, hidden_dim=n_hiddens,baseline=baseline)"
   ]
  },
  {
   "cell_type": "code",
   "execution_count": 6,
   "metadata": {},
   "outputs": [],
   "source": [
    "l23_units = {}\n",
    "l4_units = {}\n",
    "l5_units = {}\n",
    "    \n",
    "for h_units in [16,32,64,128]:\n",
    "    l23_units[h_units]= []\n",
    "    l4_units[h_units] = []\n",
    "    l5_units[h_units]= []\n",
    "    for s in [1,2,3,4,5]:\n",
    "        a_ = activations_all['False-False'][s][h_units]\n",
    "        l23_units[h_units].append(TR_measure(a_['l23_activations']))\n",
    "        l4_units[h_units].append(TR_measure(a_['l4_activations']))\n",
    "        l5_units[h_units].append(TR_measure(a_['l5_activations']))\n",
    "        "
   ]
  },
  {
   "cell_type": "code",
   "execution_count": 7,
   "metadata": {},
   "outputs": [],
   "source": [
    "l23_units\n",
    "x = list(l23_units.keys())\n",
    "l23_means_ = [np.mean(v) for v in l23_units.values()]\n",
    "l4_means_ = [np.mean(v) for v in l4_units.values()]\n",
    "l5_means_ = [np.mean(v) for v in l5_units.values()]\n",
    "\n",
    "l23_std_ = np.array([np.std(v) for v in l23_units.values()])\n",
    "l4_std_ = np.array([np.std(v) for v in l4_units.values()])\n",
    "l5_std_ = np.array([np.std(v) for v in l5_units.values()])\n",
    "\n",
    "l23_std_ = l23_std_ / np.sqrt(len(l23_std_))\n",
    "l4_std_ = l4_std_ / np.sqrt(len(l4_std_))\n",
    "l5_std_ = l5_std_ / np.sqrt(len(l5_std_))\n"
   ]
  },
  {
   "cell_type": "code",
   "execution_count": 8,
   "metadata": {},
   "outputs": [
    {
     "data": {
      "image/png": "[encoded data removed]",
      "text/plain": [
       "<Figure size 150x140 with 1 Axes>"
      ]
     },
     "metadata": {},
     "output_type": "display_data"
    }
   ],
   "source": [
    "import matplotlib.pyplot as plt\n",
    "import seaborn as sns\n",
    "plt.rcParams['legend.title_fontsize'] = config.legend_fontsize\n",
    "fig, ax = plt.subplots(figsize=(1.5, 1.4))\n",
    "['#a898c7','#aebfee', '#a6c5b5']\n",
    "plt.errorbar(x, l23_means_, l23_std_, label='L2/3', c=\"#a898c7\")\n",
    "plt.errorbar(x, l4_means_, l4_std_, label='L4', c=\"#aebfee\")\n",
    "plt.errorbar(x, l5_means_, l5_std_, label='L5', c=\"#a6c5b5\")\n",
    "plt.xscale(\"log\", base=2) # Set log scale for x-axis. Note: basex parameter is deprecated in newer matplotlib versions. Use \"base\" instead if you encounter an issue.\n",
    "plt.xticks(x, x, fontsize=config.axis_fontsize) # Set x-ticks at each of your data points, labeling them with their actual values.\n",
    "plt.ylim(0, 1.0)\n",
    "plt.yticks([0, 0.3, 0.6, 0.9],[0, 0.3, 0.6, 0.9], fontsize=config.axis_fontsize)\n",
    "plt.xlabel(\"number of neurons\", fontsize=config.axis_fontsize)\n",
    "plt.ylabel(\"pop. sparseness\", fontsize=config.axis_fontsize)\n",
    "\n",
    "\n",
    "\n",
    "plt.legend(fontsize=config.legend_fontsize, title=\"\")\n",
    "sns.despine()\n",
    "save_fig=False\n",
    "if save_fig:\n",
    "    plt.savefig(f'saved_figs/sparsity_model_hidden_units_smaller.svg', dpi=300)\n"
   ]
  },
  {
   "cell_type": "code",
   "execution_count": null,
   "metadata": {},
   "outputs": [],
   "source": []
  },
  {
   "cell_type": "markdown",
   "metadata": {},
   "source": [
    "## Model vs data sparsity"
   ]
  },
  {
   "cell_type": "code",
   "execution_count": 9,
   "metadata": {},
   "outputs": [
    {
     "name": "stdout",
     "output_type": "stream",
     "text": [
      "Dynamic ablation is ON...\n",
      "args.hidden_dim=64 / args.latent_dim=64\n",
      "\u001b[94mExperiment: dummy logger for loading model\u001b[0m\n",
      "\u001b[96mLoading model from /home/kevin/Documents/phd/projects/ssl_neocortical/checkpoints/gabor/shallow_mlp/fig5/model_seed_1_latent_dim_64_hidden_dim_64.pth\u001b[0m\n",
      "args.hidden_dim=64 / args.latent_dim=64\n",
      "\u001b[94mExperiment: dummy logger for loading model\u001b[0m\n",
      "\u001b[96mLoading model from /home/kevin/Documents/phd/projects/ssl_neocortical/checkpoints/gabor/shallow_mlp/fig5/model_seed_5_latent_dim_64_hidden_dim_64.pth\u001b[0m\n",
      "args.hidden_dim=64 / args.latent_dim=64\n",
      "\u001b[94mExperiment: dummy logger for loading model\u001b[0m\n",
      "\u001b[96mLoading model from /home/kevin/Documents/phd/projects/ssl_neocortical/checkpoints/gabor/shallow_mlp/fig5/model_seed_2_latent_dim_64_hidden_dim_64.pth\u001b[0m\n",
      "args.hidden_dim=64 / args.latent_dim=64\n",
      "\u001b[94mExperiment: dummy logger for loading model\u001b[0m\n",
      "\u001b[96mLoading model from /home/kevin/Documents/phd/projects/ssl_neocortical/checkpoints/gabor/shallow_mlp/fig5/model_seed_3_latent_dim_64_hidden_dim_64.pth\u001b[0m\n",
      "args.hidden_dim=64 / args.latent_dim=64\n",
      "\u001b[94mExperiment: dummy logger for loading model\u001b[0m\n",
      "\u001b[96mLoading model from /home/kevin/Documents/phd/projects/ssl_neocortical/checkpoints/gabor/shallow_mlp/fig5/model_seed_4_latent_dim_64_hidden_dim_64.pth\u001b[0m\n",
      "args.hidden_dim=64 / args.latent_dim=64\n",
      "\u001b[94mExperiment: dummy logger for loading model\u001b[0m\n",
      "\u001b[96mLoading model from /home/kevin/Documents/phd/projects/ssl_neocortical/checkpoints/gabor/shallow_mlp/fig5/model_seed_1_latent_dim_64_hidden_dim_64.pth\u001b[0m\n",
      "args.hidden_dim=64 / args.latent_dim=64\n",
      "\u001b[94mExperiment: dummy logger for loading model\u001b[0m\n",
      "\u001b[96mLoading model from /home/kevin/Documents/phd/projects/ssl_neocortical/checkpoints/gabor/shallow_mlp/fig5/model_seed_5_latent_dim_64_hidden_dim_64.pth\u001b[0m\n",
      "args.hidden_dim=64 / args.latent_dim=64\n",
      "\u001b[94mExperiment: dummy logger for loading model\u001b[0m\n",
      "\u001b[96mLoading model from /home/kevin/Documents/phd/projects/ssl_neocortical/checkpoints/gabor/shallow_mlp/fig5/model_seed_2_latent_dim_64_hidden_dim_64.pth\u001b[0m\n",
      "args.hidden_dim=64 / args.latent_dim=64\n",
      "\u001b[94mExperiment: dummy logger for loading model\u001b[0m\n",
      "\u001b[96mLoading model from /home/kevin/Documents/phd/projects/ssl_neocortical/checkpoints/gabor/shallow_mlp/fig5/model_seed_3_latent_dim_64_hidden_dim_64.pth\u001b[0m\n",
      "args.hidden_dim=64 / args.latent_dim=64\n",
      "\u001b[94mExperiment: dummy logger for loading model\u001b[0m\n",
      "\u001b[96mLoading model from /home/kevin/Documents/phd/projects/ssl_neocortical/checkpoints/gabor/shallow_mlp/fig5/model_seed_4_latent_dim_64_hidden_dim_64.pth\u001b[0m\n",
      "args.hidden_dim=64 / args.latent_dim=64\n",
      "\u001b[94mExperiment: dummy logger for loading model\u001b[0m\n",
      "\u001b[96mLoading model from /home/kevin/Documents/phd/projects/ssl_neocortical/checkpoints/gabor/shallow_mlp/fig5/model_seed_1_latent_dim_64_hidden_dim_64.pth\u001b[0m\n",
      "args.hidden_dim=64 / args.latent_dim=64\n",
      "\u001b[94mExperiment: dummy logger for loading model\u001b[0m\n",
      "\u001b[96mLoading model from /home/kevin/Documents/phd/projects/ssl_neocortical/checkpoints/gabor/shallow_mlp/fig5/model_seed_5_latent_dim_64_hidden_dim_64.pth\u001b[0m\n",
      "args.hidden_dim=64 / args.latent_dim=64\n",
      "\u001b[94mExperiment: dummy logger for loading model\u001b[0m\n",
      "\u001b[96mLoading model from /home/kevin/Documents/phd/projects/ssl_neocortical/checkpoints/gabor/shallow_mlp/fig5/model_seed_2_latent_dim_64_hidden_dim_64.pth\u001b[0m\n",
      "args.hidden_dim=64 / args.latent_dim=64\n",
      "\u001b[94mExperiment: dummy logger for loading model\u001b[0m\n",
      "\u001b[96mLoading model from /home/kevin/Documents/phd/projects/ssl_neocortical/checkpoints/gabor/shallow_mlp/fig5/model_seed_3_latent_dim_64_hidden_dim_64.pth\u001b[0m\n",
      "args.hidden_dim=64 / args.latent_dim=64\n",
      "\u001b[94mExperiment: dummy logger for loading model\u001b[0m\n",
      "\u001b[96mLoading model from /home/kevin/Documents/phd/projects/ssl_neocortical/checkpoints/gabor/shallow_mlp/fig5/model_seed_4_latent_dim_64_hidden_dim_64.pth\u001b[0m\n",
      "args.hidden_dim=64 / args.latent_dim=64\n",
      "\u001b[94mExperiment: dummy logger for loading model\u001b[0m\n",
      "\u001b[96mLoading model from /home/kevin/Documents/phd/projects/ssl_neocortical/checkpoints/gabor/shallow_mlp/fig5/model_seed_1_latent_dim_64_hidden_dim_64.pth\u001b[0m\n",
      "args.hidden_dim=64 / args.latent_dim=64\n",
      "\u001b[94mExperiment: dummy logger for loading model\u001b[0m\n",
      "\u001b[96mLoading model from /home/kevin/Documents/phd/projects/ssl_neocortical/checkpoints/gabor/shallow_mlp/fig5/model_seed_5_latent_dim_64_hidden_dim_64.pth\u001b[0m\n",
      "args.hidden_dim=64 / args.latent_dim=64\n",
      "\u001b[94mExperiment: dummy logger for loading model\u001b[0m\n",
      "\u001b[96mLoading model from /home/kevin/Documents/phd/projects/ssl_neocortical/checkpoints/gabor/shallow_mlp/fig5/model_seed_2_latent_dim_64_hidden_dim_64.pth\u001b[0m\n",
      "args.hidden_dim=64 / args.latent_dim=64\n",
      "\u001b[94mExperiment: dummy logger for loading model\u001b[0m\n",
      "\u001b[96mLoading model from /home/kevin/Documents/phd/projects/ssl_neocortical/checkpoints/gabor/shallow_mlp/fig5/model_seed_3_latent_dim_64_hidden_dim_64.pth\u001b[0m\n",
      "args.hidden_dim=64 / args.latent_dim=64\n",
      "\u001b[94mExperiment: dummy logger for loading model\u001b[0m\n",
      "\u001b[96mLoading model from /home/kevin/Documents/phd/projects/ssl_neocortical/checkpoints/gabor/shallow_mlp/fig5/model_seed_4_latent_dim_64_hidden_dim_64.pth\u001b[0m\n"
     ]
    }
   ],
   "source": [
    "n_hidden = [64]\n",
    "baseline=False\n",
    "dynamic_ablation=True\n",
    "activations = get_activations(exp_args=exp_args, model_name=\"shallow_mlp\", task_name=\"gabor\", ckpt_dir_dict=ckpt_dir_dict, hidden_dim=n_hidden, dynamic_ablation=dynamic_ablation, baseline=baseline)"
   ]
  },
  {
   "cell_type": "code",
   "execution_count": 14,
   "metadata": {},
   "outputs": [
    {
     "data": {
      "text/plain": [
       "dict_keys([64])"
      ]
     },
     "execution_count": 14,
     "metadata": {},
     "output_type": "execute_result"
    }
   ],
   "source": [
    "activations[\"False-False\"][1].keys()"
   ]
  },
  {
   "cell_type": "code",
   "execution_count": 15,
   "metadata": {},
   "outputs": [],
   "source": [
    "get_key = lambda i,t : f\"{no_input}-{no_topdown}\"\n",
    "n_hidden=n_hidden[0]\n",
    "\n",
    "no_input = False\n",
    "no_topdown = False\n",
    "k = get_key(no_input, no_topdown)\n",
    "l23s = []\n",
    "l4s = []\n",
    "l5s = []\n",
    "for s in [1,2,3,4,5]:\n",
    "    l23s.append(TR_measure(activations[k][s][n_hidden]['l23_activations']))\n",
    "    l4s.append(TR_measure(activations[k][s][n_hidden]['l4_activations']))\n",
    "    l5s.append(TR_measure(activations[k][s][n_hidden]['l5_activations']))\n",
    "\n",
    "layers_sparsness = [l23s, l4s, l5s]\n",
    "\n",
    "\n",
    "no_input = True\n",
    "no_topdown = False\n",
    "k = get_key(no_input, no_topdown)\n",
    "l23s_no_input = []\n",
    "l4s_no_input = []\n",
    "l5s_no_input = []\n",
    "for s in [1,2,3,4,5]:\n",
    "    l23s_no_input.append(TR_measure(activations[k][s][n_hidden]['l23_activations']))\n",
    "    l4s_no_input.append(TR_measure(activations[k][s][n_hidden]['l4_activations']))\n",
    "    l5s_no_input.append(TR_measure(activations[k][s][n_hidden]['l5_activations']))\n",
    "\n",
    "layers_sparsness_no_input = [l23s_no_input, l4s_no_input, l5s_no_input]\n",
    "\n",
    "\n",
    "\n",
    "\n",
    "no_input = False\n",
    "no_topdown = True\n",
    "k = get_key(no_input, no_topdown)\n",
    "l23s_no_topdown = []\n",
    "l4s_no_topdown = []\n",
    "l5s_no_topdown = []\n",
    "for s in [1,2,3,4,5]:\n",
    "    l23s_no_topdown.append(TR_measure(activations[k][s][n_hidden]['l23_activations']))\n",
    "    l4s_no_topdown.append(TR_measure(activations[k][s][n_hidden]['l4_activations']))\n",
    "    l5s_no_topdown.append(TR_measure(activations[k][s][n_hidden]['l5_activations']))\n",
    "\n",
    "layers_sparsness_no_topdown = [l23s_no_topdown, l4s_no_topdown, l5s_no_topdown]\n",
    "\n",
    "\n",
    "\n",
    "no_input = True\n",
    "no_topdown = True\n",
    "k = f\"{no_input}-{no_topdown}\"\n",
    "l23s_no_topdown_input = []\n",
    "l4s_no_topdown_input = []\n",
    "l5s_no_topdown_input = []\n",
    "for s in [1,2,3,4,5]:\n",
    "    l23s_no_topdown_input.append(TR_measure(activations[k][s][n_hidden]['l23_activations']))\n",
    "    l4s_no_topdown_input.append(TR_measure(activations[k][s][n_hidden]['l4_activations']))\n",
    "    l5s_no_topdown_input.append(TR_measure(activations[k][s][n_hidden]['l5_activations']))\n",
    "\n",
    "layers_sparsness_no_topdown_input = [l23s_no_topdown_input, l4s_no_topdown_input, l5s_no_topdown_input]"
   ]
  },
  {
   "cell_type": "code",
   "execution_count": 16,
   "metadata": {},
   "outputs": [
    {
     "name": "stdout",
     "output_type": "stream",
     "text": [
      "[0 1 2]\n"
     ]
    },
    {
     "data": {
      "image/png": "[encoded data removed]",
      "text/plain": [
       "<Figure size 370x160 with 2 Axes>"
      ]
     },
     "metadata": {},
     "output_type": "display_data"
    }
   ],
   "source": [
    "import matplotlib.pyplot as plt\n",
    "import matplotlib.patches as mpatches\n",
    "import seaborn as sns\n",
    "import numpy as np\n",
    "\n",
    "save_fig = True\n",
    "\n",
    "# Define labels, means, and standard deviations for l23 and l5\n",
    "labels = ['L2/3', 'L4', 'L5']\n",
    "model_means = [np.mean(l) for l in layers_sparsness]\n",
    "model_stds = [np.std(l)/np.sqrt(len(l)) for l in layers_sparsness]\n",
    "\n",
    "data_means = [m[0] for m in experimental_data.values()]\n",
    "data_stds = [m[1] for m in experimental_data.values()]\n",
    "\n",
    "x = np.arange(len(labels))  # Adjusted the label locations to start from 0\n",
    "print(x)\n",
    "width = 0.55  # the width of the bars\n",
    "# Colors for each group\n",
    "colors = ['#a898c7','#aebfee', '#a6c5b5']\n",
    "\n",
    "fig, ax = plt.subplots(1,2, figsize=(3.7, 1.6), sharey=True)\n",
    "ax[0].bar(x, model_means, width, yerr=model_stds, color=colors, edgecolor='white')\n",
    "ax[1].bar(x, data_means, width, yerr=data_stds, color=colors,  edgecolor='white')\n",
    "\n",
    "# Set xticks first and then labels\n",
    "for a in ax:\n",
    "    a.set_xticks(x)\n",
    "    a.set_xticklabels(labels, fontsize=config.axis_fontsize)\n",
    "    a.set_ylim(0, 1.0)\n",
    "    a.set_yticks([0.0, 0.3, 0.6, 0.9])\n",
    "    a.set_yticklabels([0.0, 0.3, 0.6, 0.9], fontsize=config.axis_fontsize)\n",
    "    \n",
    "    \n",
    "# ax[0].set_title(\"Model\", fontsize=config.title_fontsize)\n",
    "# ax[1].set_title(\"Data\", fontsize=config.title_fontsize)\n",
    "\n",
    "ax[0].set_ylabel('pop. sparseness', fontsize=config.axis_fontsize)\n",
    "\n",
    "sns.despine()\n",
    "fig.tight_layout()\n",
    "\n",
    "if save_fig:\n",
    "    plt.savefig(f'saved_figs/sparsity_model_data_baseline_{baseline}.svg', dpi=300)\n",
    "else:\n",
    "    print('not saving fig')"
   ]
  },
  {
   "cell_type": "markdown",
   "metadata": {},
   "source": [
    "## sparsity after dynamic k.o."
   ]
  },
  {
   "cell_type": "code",
   "execution_count": 17,
   "metadata": {},
   "outputs": [
    {
     "name": "stdout",
     "output_type": "stream",
     "text": [
      "[0 1 2]\n",
      "not saving fig\n"
     ]
    },
    {
     "data": {
      "image/png": "[encoded data removed]",
      "text/plain": [
       "<Figure size 190x160 with 1 Axes>"
      ]
     },
     "metadata": {},
     "output_type": "display_data"
    }
   ],
   "source": [
    "import matplotlib.pyplot as plt\n",
    "import matplotlib.patches as mpatches\n",
    "import seaborn as sns\n",
    "import numpy as np\n",
    "\n",
    "\n",
    "\n",
    "offset_bar = 0.02\n",
    "# Define labels, means, and standard deviations for l23 and l5\n",
    "labels = ['L2/3', 'L4', 'L5']\n",
    "model_means = [np.mean(l)+offset_bar for l in layers_sparsness]\n",
    "model_stds = [np.std(l)/np.sqrt(len(l)) for l in layers_sparsness]\n",
    "\n",
    "model_means_no_input = [np.mean(l)+offset_bar for l in layers_sparsness_no_input]\n",
    "model_stds_no_input = [np.std(l)/np.sqrt(len(l)) for l in layers_sparsness_no_input]\n",
    "\n",
    "model_means_no_topdown = [np.mean(l)+offset_bar for l in layers_sparsness_no_topdown]\n",
    "model_stds_no_topdown = [np.std(l)/np.sqrt(len(l)) for l in layers_sparsness_no_topdown]\n",
    "\n",
    "model_means_no_topdown_input = [np.mean(l)+offset_bar for l in layers_sparsness_no_topdown_input]\n",
    "model_stds_no_topdown_input = [np.std(l)/np.sqrt(len(l)) for l in layers_sparsness_no_topdown_input]\n",
    "\n",
    "\n",
    "x = np.arange(len(labels))  # Adjusted the label locations to start from 0\n",
    "print(x)\n",
    "width = 0.35  # the width of the bars\n",
    "# Colors for each group\n",
    "colors = ['#a898c7','#aebfee', '#a6c5b5']\n",
    "\n",
    "fig, ax = plt.subplots(1,1, figsize=(1.9, 1.6))\n",
    "for i, label in enumerate(labels):\n",
    "    offset = 0.9*width\n",
    "    # ax[0].bar(x[i], model_means[i], width, yerr=model_stds[i],  color=colors[i], edgecolor='white')\n",
    "    # ax[1].bar(x[i], model_means_no_input[i], width, yerr=model_stds_no_input[i], color=colors[i], edgecolor='white')\n",
    "    ax.bar(x[i]- 0.6 * offset, model_means[i], width, yerr=model_stds[i],  color=colors[i], edgecolor='white')\n",
    "    ax.bar(x[i]+ 0.6 * offset, model_means_no_input[i], width, yerr=model_stds_no_input[i], color=colors[i], hatch=\"//\", edgecolor='white')\n",
    "    # ax.bar(x[i] + .5 * offset, model_means_no_topdown[i], width, yerr=model_stds_no_topdown[i], color=colors[i], hatch='X', edgecolor='white')\n",
    "    # ax.bar(x[i] + 1.5 * offset, model_means_no_topdown_input[i], width, yerr=model_stds_no_topdown_input[i], color=colors[i], hatch='-', edgecolor='white')\n",
    "    \n",
    "# Set xticks first and then labels\n",
    "# for i, a in enumerate(ax):\n",
    "#     a.set_xticks(x)\n",
    "#     a.set_xticklabels(labels, fontsize=config.axis_fontsize)\n",
    "#     a.set_ylim(0, 1.)\n",
    "#     a.set_yticks([0.0, 0.3, 0.6, 0.9])\n",
    "#     a.set_yticklabels([0.0, 0.3, 0.6, 0.9], fontsize=config.axis_fontsize)\n",
    "\n",
    "\n",
    "    \n",
    "# ax.set_title(\"Model (full + dynamic KOs)\", fontsize=config.title_fontsize)\n",
    "    # if i ==0:\n",
    "    #     a.set_ylabel('Population sparseness', fontsize=config.axis_fontsize)\n",
    "\n",
    "# ax[0].set_title(\"with input\", fontsize=config.axis_fontsize)\n",
    "# ax[1].set_title(\"no input\", fontsize=config.axis_fontsize)\n",
    "ax.set_xticks(x)\n",
    "ax.set_xticklabels(labels, fontsize=config.axis_fontsize)\n",
    "ax.set_ylim(0, 1.0)\n",
    "ax.set_yticks([0.0, 0.3, 0.6, 0.9])\n",
    "ax.set_yticklabels([0.0, 0.3, 0.6, 0.9], fontsize=config.axis_fontsize)\n",
    "\n",
    "full_patch = mpatches.Patch(facecolor='white', label='with input', edgecolor='black')\n",
    "no_input_patch = mpatches.Patch(facecolor='white', hatch=\"//\", label='no input', edgecolor='black')\n",
    "# no_topdown_patch = mpatches.Patch(facecolor='white', hatch=\"X\", label='no top-down', edgecolor='black')\n",
    "# no_input_topdown_patch = mpatches.Patch(facecolor='white', hatch=\"-\", label='no input & no top-down', edgecolor='black')\n",
    "\n",
    "ax.legend(handles=[full_patch, no_input_patch], fontsize=config.legend_fontsize)\n",
    "ax.legend(handles=[full_patch, no_input_patch], fontsize=config.legend_fontsize)\n",
    "sns.despine()\n",
    "\n",
    "fig.tight_layout()\n",
    "\n",
    "save_fig = False\n",
    "if save_fig:\n",
    "    plt.savefig(f'saved_figs/sparsity_model_dynamic_ablation_{baseline}.svg', dpi=300)\n",
    "else:\n",
    "    print('not saving fig')"
   ]
  },
  {
   "cell_type": "markdown",
   "metadata": {},
   "source": [
    "## sparsity with model ablation"
   ]
  },
  {
   "cell_type": "code",
   "execution_count": 20,
   "metadata": {},
   "outputs": [],
   "source": [
    "exp_args = load_exp_args(checkpoint_dir=\"../checkpoints/gabor/shallow_mlp/fig3/args\")\n",
    "ckpt_dir_dict = {\"exp_name\": 'fig3', \"suffix_args\": ['seed','ablate_thal_l5','ablate_delay','ablate_topdown','ablate_l23_l5'], \"sub_dir\": \"\"}"
   ]
  },
  {
   "cell_type": "code",
   "execution_count": 21,
   "metadata": {},
   "outputs": [
    {
     "name": "stdout",
     "output_type": "stream",
     "text": [
      "[Namespace(seed=1, input_dim=784, hidden_dim=64, latent_dim=64, td=1, l23_modulation_factor=0.3, thal_l5_sparsity=0.0, l23_l5_fa=False, fa_sparsity=0.0, freeze_thal_l4=False, gabor_mode='variable', topdown_mode='random_walk', noise=0.0, lr=0.001, epoch=1500, batch_size=32, continue_training=False, sub_dir='', ablate_thal_l5=False, ablate_delay=True, ablate_topdown=False, ablate_l23_l5=False), Namespace(seed=3, input_dim=784, hidden_dim=64, latent_dim=64, td=1, l23_modulation_factor=0.3, thal_l5_sparsity=0.0, l23_l5_fa=False, fa_sparsity=0.0, freeze_thal_l4=False, gabor_mode='variable', topdown_mode='random_walk', noise=0.0, lr=0.001, epoch=1500, batch_size=32, continue_training=False, sub_dir='', ablate_thal_l5=False, ablate_delay=True, ablate_topdown=False, ablate_l23_l5=False), Namespace(seed=5, input_dim=784, hidden_dim=64, latent_dim=64, td=1, l23_modulation_factor=0.3, thal_l5_sparsity=0.0, l23_l5_fa=False, fa_sparsity=0.0, freeze_thal_l4=False, gabor_mode='variable', topdown_mode='random_walk', noise=0.0, lr=0.001, epoch=1500, batch_size=32, continue_training=False, sub_dir='', ablate_thal_l5=False, ablate_delay=True, ablate_topdown=False, ablate_l23_l5=False), Namespace(seed=2, input_dim=784, hidden_dim=64, latent_dim=64, td=1, l23_modulation_factor=0.3, thal_l5_sparsity=0.0, l23_l5_fa=False, fa_sparsity=0.0, freeze_thal_l4=False, gabor_mode='variable', topdown_mode='random_walk', noise=0.0, lr=0.001, epoch=1500, batch_size=32, continue_training=False, sub_dir='', ablate_thal_l5=False, ablate_delay=True, ablate_topdown=False, ablate_l23_l5=False), Namespace(seed=4, input_dim=784, hidden_dim=64, latent_dim=64, td=1, l23_modulation_factor=0.3, thal_l5_sparsity=0.0, l23_l5_fa=False, fa_sparsity=0.0, freeze_thal_l4=False, gabor_mode='variable', topdown_mode='random_walk', noise=0.0, lr=0.001, epoch=1500, batch_size=32, continue_training=False, sub_dir='', ablate_thal_l5=False, ablate_delay=True, ablate_topdown=False, ablate_l23_l5=False)]\n",
      "\n",
      " Ablation: ablate_delay\n",
      "\n",
      "args.hidden_dim=64 / args.latent_dim=64\n",
      "\u001b[94mExperiment: dummy logger for loading model\u001b[0m\n",
      "\u001b[96mLoading model from /home/kevin/Documents/phd/projects/ssl_neocortical/checkpoints/gabor/shallow_mlp/fig3/model_seed_1_ablate_thal_l5_False_ablate_delay_True_ablate_topdown_False_ablate_l23_l5_False.pth\u001b[0m\n",
      "args.hidden_dim=64 / args.latent_dim=64\n",
      "\u001b[94mExperiment: dummy logger for loading model\u001b[0m\n",
      "\u001b[96mLoading model from /home/kevin/Documents/phd/projects/ssl_neocortical/checkpoints/gabor/shallow_mlp/fig3/model_seed_3_ablate_thal_l5_False_ablate_delay_True_ablate_topdown_False_ablate_l23_l5_False.pth\u001b[0m\n",
      "args.hidden_dim=64 / args.latent_dim=64\n",
      "\u001b[94mExperiment: dummy logger for loading model\u001b[0m\n",
      "\u001b[96mLoading model from /home/kevin/Documents/phd/projects/ssl_neocortical/checkpoints/gabor/shallow_mlp/fig3/model_seed_5_ablate_thal_l5_False_ablate_delay_True_ablate_topdown_False_ablate_l23_l5_False.pth\u001b[0m\n",
      "args.hidden_dim=64 / args.latent_dim=64\n",
      "\u001b[94mExperiment: dummy logger for loading model\u001b[0m\n",
      "\u001b[96mLoading model from /home/kevin/Documents/phd/projects/ssl_neocortical/checkpoints/gabor/shallow_mlp/fig3/model_seed_2_ablate_thal_l5_False_ablate_delay_True_ablate_topdown_False_ablate_l23_l5_False.pth\u001b[0m\n",
      "args.hidden_dim=64 / args.latent_dim=64\n",
      "\u001b[94mExperiment: dummy logger for loading model\u001b[0m\n",
      "\u001b[96mLoading model from /home/kevin/Documents/phd/projects/ssl_neocortical/checkpoints/gabor/shallow_mlp/fig3/model_seed_4_ablate_thal_l5_False_ablate_delay_True_ablate_topdown_False_ablate_l23_l5_False.pth\u001b[0m\n",
      "[Namespace(seed=4, input_dim=784, hidden_dim=64, latent_dim=64, td=1, l23_modulation_factor=0.3, thal_l5_sparsity=0.0, l23_l5_fa=False, fa_sparsity=0.0, freeze_thal_l4=False, gabor_mode='variable', topdown_mode='random_walk', noise=0.0, lr=0.001, epoch=1500, batch_size=32, continue_training=False, sub_dir='', ablate_thal_l5=False, ablate_delay=False, ablate_topdown=False, ablate_l23_l5=True), Namespace(seed=3, input_dim=784, hidden_dim=64, latent_dim=64, td=1, l23_modulation_factor=0.3, thal_l5_sparsity=0.0, l23_l5_fa=False, fa_sparsity=0.0, freeze_thal_l4=False, gabor_mode='variable', topdown_mode='random_walk', noise=0.0, lr=0.001, epoch=1500, batch_size=32, continue_training=False, sub_dir='', ablate_thal_l5=False, ablate_delay=False, ablate_topdown=False, ablate_l23_l5=True), Namespace(seed=1, input_dim=784, hidden_dim=64, latent_dim=64, td=1, l23_modulation_factor=0.3, thal_l5_sparsity=0.0, l23_l5_fa=False, fa_sparsity=0.0, freeze_thal_l4=False, gabor_mode='variable', topdown_mode='random_walk', noise=0.0, lr=0.001, epoch=1500, batch_size=32, continue_training=False, sub_dir='', ablate_thal_l5=False, ablate_delay=False, ablate_topdown=False, ablate_l23_l5=True), Namespace(seed=2, input_dim=784, hidden_dim=64, latent_dim=64, td=1, l23_modulation_factor=0.3, thal_l5_sparsity=0.0, l23_l5_fa=False, fa_sparsity=0.0, freeze_thal_l4=False, gabor_mode='variable', topdown_mode='random_walk', noise=0.0, lr=0.001, epoch=1500, batch_size=32, continue_training=False, sub_dir='', ablate_thal_l5=False, ablate_delay=False, ablate_topdown=False, ablate_l23_l5=True), Namespace(seed=5, input_dim=784, hidden_dim=64, latent_dim=64, td=1, l23_modulation_factor=0.3, thal_l5_sparsity=0.0, l23_l5_fa=False, fa_sparsity=0.0, freeze_thal_l4=False, gabor_mode='variable', topdown_mode='random_walk', noise=0.0, lr=0.001, epoch=1500, batch_size=32, continue_training=False, sub_dir='', ablate_thal_l5=False, ablate_delay=False, ablate_topdown=False, ablate_l23_l5=True)]\n",
      "\n",
      " Ablation: ablate_l23_l5\n",
      "\n",
      "args.hidden_dim=64 / args.latent_dim=64\n",
      "\u001b[94mExperiment: dummy logger for loading model\u001b[0m\n",
      "\u001b[96mLoading model from /home/kevin/Documents/phd/projects/ssl_neocortical/checkpoints/gabor/shallow_mlp/fig3/model_seed_4_ablate_thal_l5_False_ablate_delay_False_ablate_topdown_False_ablate_l23_l5_True.pth\u001b[0m\n",
      "args.hidden_dim=64 / args.latent_dim=64\n",
      "\u001b[94mExperiment: dummy logger for loading model\u001b[0m\n",
      "\u001b[96mLoading model from /home/kevin/Documents/phd/projects/ssl_neocortical/checkpoints/gabor/shallow_mlp/fig3/model_seed_3_ablate_thal_l5_False_ablate_delay_False_ablate_topdown_False_ablate_l23_l5_True.pth\u001b[0m\n",
      "args.hidden_dim=64 / args.latent_dim=64\n",
      "\u001b[94mExperiment: dummy logger for loading model\u001b[0m\n",
      "\u001b[96mLoading model from /home/kevin/Documents/phd/projects/ssl_neocortical/checkpoints/gabor/shallow_mlp/fig3/model_seed_1_ablate_thal_l5_False_ablate_delay_False_ablate_topdown_False_ablate_l23_l5_True.pth\u001b[0m\n",
      "args.hidden_dim=64 / args.latent_dim=64\n",
      "\u001b[94mExperiment: dummy logger for loading model\u001b[0m\n",
      "\u001b[96mLoading model from /home/kevin/Documents/phd/projects/ssl_neocortical/checkpoints/gabor/shallow_mlp/fig3/model_seed_2_ablate_thal_l5_False_ablate_delay_False_ablate_topdown_False_ablate_l23_l5_True.pth\u001b[0m\n",
      "args.hidden_dim=64 / args.latent_dim=64\n",
      "\u001b[94mExperiment: dummy logger for loading model\u001b[0m\n",
      "\u001b[96mLoading model from /home/kevin/Documents/phd/projects/ssl_neocortical/checkpoints/gabor/shallow_mlp/fig3/model_seed_5_ablate_thal_l5_False_ablate_delay_False_ablate_topdown_False_ablate_l23_l5_True.pth\u001b[0m\n",
      "[Namespace(seed=1, input_dim=784, hidden_dim=64, latent_dim=64, td=1, l23_modulation_factor=0.3, thal_l5_sparsity=0.0, l23_l5_fa=False, fa_sparsity=0.0, freeze_thal_l4=False, gabor_mode='variable', topdown_mode='random_walk', noise=0.0, lr=0.001, epoch=1500, batch_size=32, continue_training=False, sub_dir='', ablate_thal_l5=True, ablate_delay=False, ablate_topdown=False, ablate_l23_l5=False), Namespace(seed=2, input_dim=784, hidden_dim=64, latent_dim=64, td=1, l23_modulation_factor=0.3, thal_l5_sparsity=0.0, l23_l5_fa=False, fa_sparsity=0.0, freeze_thal_l4=False, gabor_mode='variable', topdown_mode='random_walk', noise=0.0, lr=0.001, epoch=1500, batch_size=32, continue_training=False, sub_dir='', ablate_thal_l5=True, ablate_delay=False, ablate_topdown=False, ablate_l23_l5=False), Namespace(seed=4, input_dim=784, hidden_dim=64, latent_dim=64, td=1, l23_modulation_factor=0.3, thal_l5_sparsity=0.0, l23_l5_fa=False, fa_sparsity=0.0, freeze_thal_l4=False, gabor_mode='variable', topdown_mode='random_walk', noise=0.0, lr=0.001, epoch=1500, batch_size=32, continue_training=False, sub_dir='', ablate_thal_l5=True, ablate_delay=False, ablate_topdown=False, ablate_l23_l5=False), Namespace(seed=3, input_dim=784, hidden_dim=64, latent_dim=64, td=1, l23_modulation_factor=0.3, thal_l5_sparsity=0.0, l23_l5_fa=False, fa_sparsity=0.0, freeze_thal_l4=False, gabor_mode='variable', topdown_mode='random_walk', noise=0.0, lr=0.001, epoch=1500, batch_size=32, continue_training=False, sub_dir='', ablate_thal_l5=True, ablate_delay=False, ablate_topdown=False, ablate_l23_l5=False), Namespace(seed=5, input_dim=784, hidden_dim=64, latent_dim=64, td=1, l23_modulation_factor=0.3, thal_l5_sparsity=0.0, l23_l5_fa=False, fa_sparsity=0.0, freeze_thal_l4=False, gabor_mode='variable', topdown_mode='random_walk', noise=0.0, lr=0.001, epoch=1500, batch_size=32, continue_training=False, sub_dir='', ablate_thal_l5=True, ablate_delay=False, ablate_topdown=False, ablate_l23_l5=False)]\n",
      "\n",
      " Ablation: ablate_thal_l5\n",
      "\n",
      "args.hidden_dim=64 / args.latent_dim=64\n",
      "\u001b[94mExperiment: dummy logger for loading model\u001b[0m\n",
      "\u001b[96mLoading model from /home/kevin/Documents/phd/projects/ssl_neocortical/checkpoints/gabor/shallow_mlp/fig3/model_seed_1_ablate_thal_l5_True_ablate_delay_False_ablate_topdown_False_ablate_l23_l5_False.pth\u001b[0m\n",
      "args.hidden_dim=64 / args.latent_dim=64\n",
      "\u001b[94mExperiment: dummy logger for loading model\u001b[0m\n",
      "\u001b[96mLoading model from /home/kevin/Documents/phd/projects/ssl_neocortical/checkpoints/gabor/shallow_mlp/fig3/model_seed_2_ablate_thal_l5_True_ablate_delay_False_ablate_topdown_False_ablate_l23_l5_False.pth\u001b[0m\n",
      "args.hidden_dim=64 / args.latent_dim=64\n",
      "\u001b[94mExperiment: dummy logger for loading model\u001b[0m\n",
      "\u001b[96mLoading model from /home/kevin/Documents/phd/projects/ssl_neocortical/checkpoints/gabor/shallow_mlp/fig3/model_seed_4_ablate_thal_l5_True_ablate_delay_False_ablate_topdown_False_ablate_l23_l5_False.pth\u001b[0m\n",
      "args.hidden_dim=64 / args.latent_dim=64\n",
      "\u001b[94mExperiment: dummy logger for loading model\u001b[0m\n",
      "\u001b[96mLoading model from /home/kevin/Documents/phd/projects/ssl_neocortical/checkpoints/gabor/shallow_mlp/fig3/model_seed_3_ablate_thal_l5_True_ablate_delay_False_ablate_topdown_False_ablate_l23_l5_False.pth\u001b[0m\n",
      "args.hidden_dim=64 / args.latent_dim=64\n",
      "\u001b[94mExperiment: dummy logger for loading model\u001b[0m\n",
      "\u001b[96mLoading model from /home/kevin/Documents/phd/projects/ssl_neocortical/checkpoints/gabor/shallow_mlp/fig3/model_seed_5_ablate_thal_l5_True_ablate_delay_False_ablate_topdown_False_ablate_l23_l5_False.pth\u001b[0m\n",
      "[Namespace(seed=2, input_dim=784, hidden_dim=64, latent_dim=64, td=1, l23_modulation_factor=0.3, thal_l5_sparsity=0.0, l23_l5_fa=False, fa_sparsity=0.0, freeze_thal_l4=False, gabor_mode='variable', topdown_mode='random_walk', noise=0.0, lr=0.001, epoch=1500, batch_size=32, continue_training=False, sub_dir='', ablate_thal_l5=False, ablate_delay=False, ablate_topdown=True, ablate_l23_l5=False), Namespace(seed=3, input_dim=784, hidden_dim=64, latent_dim=64, td=1, l23_modulation_factor=0.3, thal_l5_sparsity=0.0, l23_l5_fa=False, fa_sparsity=0.0, freeze_thal_l4=False, gabor_mode='variable', topdown_mode='random_walk', noise=0.0, lr=0.001, epoch=1500, batch_size=32, continue_training=False, sub_dir='', ablate_thal_l5=False, ablate_delay=False, ablate_topdown=True, ablate_l23_l5=False), Namespace(seed=5, input_dim=784, hidden_dim=64, latent_dim=64, td=1, l23_modulation_factor=0.3, thal_l5_sparsity=0.0, l23_l5_fa=False, fa_sparsity=0.0, freeze_thal_l4=False, gabor_mode='variable', topdown_mode='random_walk', noise=0.0, lr=0.001, epoch=1500, batch_size=32, continue_training=False, sub_dir='', ablate_thal_l5=False, ablate_delay=False, ablate_topdown=True, ablate_l23_l5=False), Namespace(seed=4, input_dim=784, hidden_dim=64, latent_dim=64, td=1, l23_modulation_factor=0.3, thal_l5_sparsity=0.0, l23_l5_fa=False, fa_sparsity=0.0, freeze_thal_l4=False, gabor_mode='variable', topdown_mode='random_walk', noise=0.0, lr=0.001, epoch=1500, batch_size=32, continue_training=False, sub_dir='', ablate_thal_l5=False, ablate_delay=False, ablate_topdown=True, ablate_l23_l5=False), Namespace(seed=1, input_dim=784, hidden_dim=64, latent_dim=64, td=1, l23_modulation_factor=0.3, thal_l5_sparsity=0.0, l23_l5_fa=False, fa_sparsity=0.0, freeze_thal_l4=False, gabor_mode='variable', topdown_mode='random_walk', noise=0.0, lr=0.001, epoch=1500, batch_size=32, continue_training=False, sub_dir='', ablate_thal_l5=False, ablate_delay=False, ablate_topdown=True, ablate_l23_l5=False)]\n",
      "\n",
      " Ablation: ablate_topdown\n",
      "\n",
      "args.hidden_dim=64 / args.latent_dim=64\n",
      "\u001b[94mExperiment: dummy logger for loading model\u001b[0m\n",
      "\u001b[96mLoading model from /home/kevin/Documents/phd/projects/ssl_neocortical/checkpoints/gabor/shallow_mlp/fig3/model_seed_2_ablate_thal_l5_False_ablate_delay_False_ablate_topdown_True_ablate_l23_l5_False.pth\u001b[0m\n",
      "args.hidden_dim=64 / args.latent_dim=64\n",
      "\u001b[94mExperiment: dummy logger for loading model\u001b[0m\n",
      "\u001b[96mLoading model from /home/kevin/Documents/phd/projects/ssl_neocortical/checkpoints/gabor/shallow_mlp/fig3/model_seed_3_ablate_thal_l5_False_ablate_delay_False_ablate_topdown_True_ablate_l23_l5_False.pth\u001b[0m\n",
      "args.hidden_dim=64 / args.latent_dim=64\n",
      "\u001b[94mExperiment: dummy logger for loading model\u001b[0m\n",
      "\u001b[96mLoading model from /home/kevin/Documents/phd/projects/ssl_neocortical/checkpoints/gabor/shallow_mlp/fig3/model_seed_5_ablate_thal_l5_False_ablate_delay_False_ablate_topdown_True_ablate_l23_l5_False.pth\u001b[0m\n",
      "args.hidden_dim=64 / args.latent_dim=64\n",
      "\u001b[94mExperiment: dummy logger for loading model\u001b[0m\n",
      "\u001b[96mLoading model from /home/kevin/Documents/phd/projects/ssl_neocortical/checkpoints/gabor/shallow_mlp/fig3/model_seed_4_ablate_thal_l5_False_ablate_delay_False_ablate_topdown_True_ablate_l23_l5_False.pth\u001b[0m\n",
      "args.hidden_dim=64 / args.latent_dim=64\n",
      "\u001b[94mExperiment: dummy logger for loading model\u001b[0m\n",
      "\u001b[96mLoading model from /home/kevin/Documents/phd/projects/ssl_neocortical/checkpoints/gabor/shallow_mlp/fig3/model_seed_1_ablate_thal_l5_False_ablate_delay_False_ablate_topdown_True_ablate_l23_l5_False.pth\u001b[0m\n",
      "[Namespace(seed=5, input_dim=784, hidden_dim=64, latent_dim=64, td=1, l23_modulation_factor=0.3, thal_l5_sparsity=0.0, l23_l5_fa=False, fa_sparsity=0.0, freeze_thal_l4=False, gabor_mode='variable', topdown_mode='random_walk', noise=0.0, lr=0.001, epoch=1500, batch_size=32, continue_training=False, sub_dir='', ablate_thal_l5=False, ablate_delay=False, ablate_topdown=False, ablate_l23_l5=False), Namespace(seed=4, input_dim=784, hidden_dim=64, latent_dim=64, td=1, l23_modulation_factor=0.3, thal_l5_sparsity=0.0, l23_l5_fa=False, fa_sparsity=0.0, freeze_thal_l4=False, gabor_mode='variable', topdown_mode='random_walk', noise=0.0, lr=0.001, epoch=1500, batch_size=32, continue_training=False, sub_dir='', ablate_thal_l5=False, ablate_delay=False, ablate_topdown=False, ablate_l23_l5=False), Namespace(seed=3, input_dim=784, hidden_dim=64, latent_dim=64, td=1, l23_modulation_factor=0.3, thal_l5_sparsity=0.0, l23_l5_fa=False, fa_sparsity=0.0, freeze_thal_l4=False, gabor_mode='variable', topdown_mode='random_walk', noise=0.0, lr=0.001, epoch=1500, batch_size=32, continue_training=False, sub_dir='', ablate_thal_l5=False, ablate_delay=False, ablate_topdown=False, ablate_l23_l5=False), Namespace(seed=2, input_dim=784, hidden_dim=64, latent_dim=64, td=1, l23_modulation_factor=0.3, thal_l5_sparsity=0.0, l23_l5_fa=False, fa_sparsity=0.0, freeze_thal_l4=False, gabor_mode='variable', topdown_mode='random_walk', noise=0.0, lr=0.001, epoch=1500, batch_size=32, continue_training=False, sub_dir='', ablate_thal_l5=False, ablate_delay=False, ablate_topdown=False, ablate_l23_l5=False), Namespace(seed=1, input_dim=784, hidden_dim=64, latent_dim=64, td=1, l23_modulation_factor=0.3, thal_l5_sparsity=0.0, l23_l5_fa=False, fa_sparsity=0.0, freeze_thal_l4=False, gabor_mode='variable', topdown_mode='random_walk', noise=0.0, lr=0.001, epoch=1500, batch_size=32, continue_training=False, sub_dir='', ablate_thal_l5=False, ablate_delay=False, ablate_topdown=False, ablate_l23_l5=False)]\n",
      "\n",
      " Ablation: full\n",
      "\n",
      "args.hidden_dim=64 / args.latent_dim=64\n",
      "\u001b[94mExperiment: dummy logger for loading model\u001b[0m\n",
      "\u001b[96mLoading model from /home/kevin/Documents/phd/projects/ssl_neocortical/checkpoints/gabor/shallow_mlp/fig3/model_seed_5_ablate_thal_l5_False_ablate_delay_False_ablate_topdown_False_ablate_l23_l5_False.pth\u001b[0m\n",
      "args.hidden_dim=64 / args.latent_dim=64\n",
      "\u001b[94mExperiment: dummy logger for loading model\u001b[0m\n",
      "\u001b[96mLoading model from /home/kevin/Documents/phd/projects/ssl_neocortical/checkpoints/gabor/shallow_mlp/fig3/model_seed_4_ablate_thal_l5_False_ablate_delay_False_ablate_topdown_False_ablate_l23_l5_False.pth\u001b[0m\n",
      "args.hidden_dim=64 / args.latent_dim=64\n",
      "\u001b[94mExperiment: dummy logger for loading model\u001b[0m\n",
      "\u001b[96mLoading model from /home/kevin/Documents/phd/projects/ssl_neocortical/checkpoints/gabor/shallow_mlp/fig3/model_seed_3_ablate_thal_l5_False_ablate_delay_False_ablate_topdown_False_ablate_l23_l5_False.pth\u001b[0m\n",
      "args.hidden_dim=64 / args.latent_dim=64\n",
      "\u001b[94mExperiment: dummy logger for loading model\u001b[0m\n",
      "\u001b[96mLoading model from /home/kevin/Documents/phd/projects/ssl_neocortical/checkpoints/gabor/shallow_mlp/fig3/model_seed_2_ablate_thal_l5_False_ablate_delay_False_ablate_topdown_False_ablate_l23_l5_False.pth\u001b[0m\n",
      "args.hidden_dim=64 / args.latent_dim=64\n",
      "\u001b[94mExperiment: dummy logger for loading model\u001b[0m\n",
      "\u001b[96mLoading model from /home/kevin/Documents/phd/projects/ssl_neocortical/checkpoints/gabor/shallow_mlp/fig3/model_seed_1_ablate_thal_l5_False_ablate_delay_False_ablate_topdown_False_ablate_l23_l5_False.pth\u001b[0m\n"
     ]
    }
   ],
   "source": [
    "ablations = ['ablate_delay', 'ablate_l23_l5', 'ablate_thal_l5','ablate_topdown', 'full']\n",
    "activations_all = {}\n",
    "n_hidden=[64]\n",
    "for ablation in ablations:\n",
    "    args = []\n",
    "    if ablation == 'full':\n",
    "        full_args = [arg for arg in exp_args if arg.ablate_delay == False and arg.ablate_l23_l5 == False and arg.ablate_thal_l5 == False and arg.ablate_topdown == False]\n",
    "        args.extend(full_args)\n",
    "    else:\n",
    "        for arg in exp_args:\n",
    "            if eval(f'arg.{ablation}') == True:\n",
    "                args.append(arg)\n",
    "    print(args)\n",
    "    if len(args) > 0:\n",
    "        print(f'\\n Ablation: {ablation}\\n')\n",
    "        activations = get_activations(exp_args=args, model_name=\"shallow_mlp\", task_name=\"gabor\", ckpt_dir_dict=ckpt_dir_dict, hidden_dim=n_hidden)\n",
    "        activations_all[ablation]= activations\n",
    "        \n",
    "# plot_ablation_summary(predictions_all, name=f'fig3_summary_ablations.svg', save_fig=True)"
   ]
  },
  {
   "cell_type": "code",
   "execution_count": 22,
   "metadata": {},
   "outputs": [
    {
     "data": {
      "text/plain": [
       "dict_keys([1, 3, 5, 2, 4])"
      ]
     },
     "execution_count": 22,
     "metadata": {},
     "output_type": "execute_result"
    }
   ],
   "source": [
    "activations_all['ablate_delay'][\"False-False\"].keys()"
   ]
  },
  {
   "cell_type": "code",
   "execution_count": 23,
   "metadata": {},
   "outputs": [],
   "source": [
    "activations_all['ablate_delay']['False-False']\n",
    "\n",
    "results = {}\n",
    "for ablation in ablations:\n",
    "    if ablation not in results:\n",
    "        results[ablation] = {'l23': [], 'l4': [], 'l5': []}\n",
    "    condition = 'False-False'\n",
    "    # for seed in [1,2,3,4,5]:\n",
    "    for seed in [1,2]:\n",
    "        \n",
    "        \n",
    "        n_hidden = 64\n",
    "        l23_ = TR_measure(activations_all[ablation][condition][seed][n_hidden]['l23_activations'])\n",
    "        l4_ = TR_measure(activations_all[ablation][condition][seed][n_hidden]['l4_activations'])\n",
    "        l5_ = TR_measure(activations_all[ablation][condition][seed][n_hidden]['l5_activations'])\n",
    "        \n",
    "        results[ablation]['l23'].append(l23_)\n",
    "        results[ablation]['l4'].append(l4_)\n",
    "        results[ablation]['l5'].append(l5_)\n",
    "        "
   ]
  },
  {
   "cell_type": "code",
   "execution_count": 24,
   "metadata": {},
   "outputs": [
    {
     "data": {
      "text/plain": [
       "{'ablate_delay': {'l23': [0.048956061645639176, 0.05019678886548325],\n",
       "  'l4': [0.11760544643246762, 0.1195343157546561],\n",
       "  'l5': [0.1458480049982201, 0.13943923552858256]},\n",
       " 'ablate_l23_l5': {'l23': [0.023787210257627193, 0.019395826790533522],\n",
       "  'l4': [0.01918897485656634, 0.02120448800342016],\n",
       "  'l5': [0.1322745086982301, 0.1232023630822484]},\n",
       " 'ablate_thal_l5': {'l23': [0.7789542860039109, 0.7398348949348212],\n",
       "  'l4': [0.4261724686214608, 0.5214033641531264],\n",
       "  'l5': [1.4821619909555405e-08, 7.065126624476261e-10]},\n",
       " 'ablate_topdown': {'l23': [0.9187815570237363, 0.9157601132215314],\n",
       "  'l4': [0.5072020865608633, 0.635648900369929],\n",
       "  'l5': [0.23516780505634244, 0.21098596475821244]},\n",
       " 'full': {'l23': [0.8779689930481968, 0.9312095379825064],\n",
       "  'l4': [0.5007315957453196, 0.6077536764857444],\n",
       "  'l5': [0.22805822784183089, 0.20911651929999805]}}"
      ]
     },
     "execution_count": 24,
     "metadata": {},
     "output_type": "execute_result"
    }
   ],
   "source": [
    "results"
   ]
  },
  {
   "cell_type": "code",
   "execution_count": 25,
   "metadata": {},
   "outputs": [
    {
     "name": "stdout",
     "output_type": "stream",
     "text": [
      "not saving fig\n"
     ]
    },
    {
     "data": {
      "image/png": "[encoded data removed]",
      "text/plain": [
       "<Figure size 370x225 with 1 Axes>"
      ]
     },
     "metadata": {},
     "output_type": "display_data"
    }
   ],
   "source": [
    "import matplotlib.pyplot as plt\n",
    "import matplotlib.patches as mpatches\n",
    "import seaborn as sns\n",
    "\n",
    "# Define labels, means, and standard deviations for l23 and l5\n",
    "\n",
    "labels = list(results.keys())\n",
    "labels.reverse()\n",
    "labels\n",
    "\n",
    "l23_means = [np.mean(results[ablation]['l23']) for ablation in labels]\n",
    "l5_means = [np.mean(results[ablation]['l5']) for ablation in labels]\n",
    "l4_means = [np.mean(results[ablation]['l4']) for ablation in labels]\n",
    "\n",
    "l23_stds = [np.std(results[ablation]['l23']) for ablation in labels]\n",
    "l5_stds = [np.std(results[ablation]['l5']) for ablation in labels]\n",
    "l4_stds = [np.std(results[ablation]['l4']) for ablation in labels]\n",
    "\n",
    "\n",
    "x = np.arange(len(labels))  # the label locations\n",
    "width = 0.27  # the width of the bars\n",
    "\n",
    "# Colors for each group\n",
    "colors = ['#1e1f1c','#003f5c', '#58508d', '#bc5090', '#ff6361']\n",
    "\n",
    "\n",
    "fig, ax = plt.subplots(figsize=(3.7, 2.25))\n",
    "for i, label in enumerate(labels):\n",
    "    ax.bar(x[i] - width, l23_means[i], width, yerr=l23_stds[i], label=f'L23 {label}', color=colors[i], edgecolor='white')\n",
    "    ax.bar(x[i], l4_means[i], width, yerr=l4_stds[i], label=f'L4 {label}', color=colors[i], hatch='-', edgecolor='white')\n",
    "    ax.bar(x[i] + width, l5_means[i], width, yerr=l5_stds[i], label=f'L5 {label}', color=colors[i], hatch='//', edgecolor='white')\n",
    "    \n",
    "\n",
    "# Add some text for labels, title and custom x-axis tick labels, etc.\n",
    "ax.set_ylabel('pop. sparseness', fontsize=config.axis_fontsize)\n",
    "# ax.set_title('$x_2$ classification accuarcy',fontsize=config.title_fontsize) \n",
    "ax.set_xticks(x, fontsize=config.axis_fontsize)\n",
    "ax.set_ylim(0, 1.0)\n",
    "ax.set_yticks([0.0, 0.3, 0.6, 0.9])\n",
    "ax.set_yticklabels([0.0, 0.3, 0.6, 0.9], fontsize=config.axis_fontsize)\n",
    "\n",
    "ax.set_xticklabels(['full', 'topdown k.o.', r'Thal. $\\rightarrow$L5 k.o.', r'L2/3$\\rightarrow$L5 k.o.', 'delay k.o.'], rotation=25, ha=\"right\", fontsize=config.axis_fontsize)\n",
    "\n",
    "\n",
    "# Create offset transform by 5 points in x direction\n",
    "import matplotlib\n",
    "dx = 8/72.; dy = +0.05\n",
    "offset = matplotlib.transforms.ScaledTranslation(dx, dy, fig.dpi_scale_trans)\n",
    "\n",
    "# apply offset transform to all x ticklabels.\n",
    "for label in ax.xaxis.get_majorticklabels():\n",
    "    label.set_transform(label.get_transform() + offset)\n",
    "\n",
    "\n",
    "\n",
    "sns.despine()\n",
    "# add custom legend\n",
    "l23_patch = mpatches.Patch(facecolor='white', label='l23', edgecolor='black')\n",
    "l4_patch = mpatches.Patch(facecolor='white', hatch=\"-\", label='l4', edgecolor='black')\n",
    "l5_patch = mpatches.Patch(facecolor='white', hatch=\"//\", label='l5', edgecolor='black')\n",
    "ax.legend(handles=[l23_patch,l4_patch, l5_patch], title=\"layer\", fontsize=config.legend_fontsize)\n",
    "\n",
    "\n",
    "fig.tight_layout()\n",
    "\n",
    "save_fig = False\n",
    "if save_fig:\n",
    "    plt.savefig(f'saved_figs/sparsity_model_ablation.svg', dpi=300)\n",
    "else:\n",
    "    print('not saving fig')\n"
   ]
  },
  {
   "cell_type": "code",
   "execution_count": null,
   "metadata": {},
   "outputs": [],
   "source": []
  }
 ],
 "metadata": {
  "kernelspec": {
   "display_name": "torch-env",
   "language": "python",
   "name": "python3"
  },
  "language_info": {
   "codemirror_mode": {
    "name": "ipython",
    "version": 3
   },
   "file_extension": ".py",
   "mimetype": "text/x-python",
   "name": "python",
   "nbconvert_exporter": "python",
   "pygments_lexer": "ipython3",
   "version": "3.10.9"
  }
 },
 "nbformat": 4,
 "nbformat_minor": 2
}
