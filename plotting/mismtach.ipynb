{
 "cells": [
  {
   "cell_type": "code",
   "execution_count": 1,
   "metadata": {},
   "outputs": [],
   "source": [
    "import torch\n",
    "from torch import nn \n",
    "from torch.nn import functional as F\n",
    "from torch import optim\n",
    "from torch.utils.data import DataLoader, Dataset\n",
    "\n",
    "import sys\n",
    "sys.path.append('../')\n",
    "from model import ShallowMLP\n",
    "from dataset import SyntheticVisualFlowDataset\n",
    "from experiment.utils import set_seed, init_model, Logger, Trainer, Checkpointer\n",
    "from plotting.utils import config\n",
    "\n",
    "from matplotlib.colors import LinearSegmentedColormap, Normalize\n",
    "import matplotlib.colors as colors\n",
    "from mpl_toolkits.axes_grid1 import make_axes_locatable\n",
    "import matplotlib\n",
    "\n",
    "import numpy as np\n",
    "from argparse import Namespace\n",
    "\n",
    "import matplotlib.pyplot as plt"
   ]
  },
  {
   "cell_type": "markdown",
   "metadata": {},
   "source": [
    "## helper functions"
   ]
  },
  {
   "cell_type": "code",
   "execution_count": 2,
   "metadata": {},
   "outputs": [],
   "source": [
    "def custom_collate_fn(batch):\n",
    "    visual_flow_t = torch.tensor(np.array([item[0] for item in batch]), dtype=torch.float32)\n",
    "    visual_flow_tp1 = torch.tensor(np.array([item[1] for item in batch]), dtype=torch.float32)\n",
    "    speeds_t = torch.tensor(np.array([item[2] for item in batch]), dtype=torch.float32)\n",
    "    speeds_tp1 = torch.tensor(np.array([item[3] for item in batch]), dtype=torch.float32)\n",
    "    \n",
    "    return visual_flow_t, visual_flow_tp1, speeds_tp1, speeds_t, speeds_tp1"
   ]
  },
  {
   "cell_type": "code",
   "execution_count": 3,
   "metadata": {},
   "outputs": [],
   "source": [
    "def get_mm(net, dataloader_mm, recon_loss_coeff=0, l5_scale=0, l23_scale=0, l5_indices=None, l23_indices=None):\n",
    "    optimizer = optim.SGD(net.parameters(), lr=1e-3) # dummy optimizer\n",
    "    net.to('cpu')\n",
    "    mm = {'baseline': {}, 'mm': {}}\n",
    "    for k in mm.keys():\n",
    "        mm[k] = {'L2/3_fc1': [],'L2/3_fc2': [],'L5_fc1': [], 'L5_fc2': [], \"speed\": [], \"l5_scale_indices\": []}\n",
    "        for i, (x1,x2,s1, s2) in enumerate(dataloader_mm):\n",
    "            x1 = x1.float()\n",
    "            x2 = x2.float()\n",
    "            s1 = s1.float()\n",
    "            s2 = s2.float()\n",
    "            # flatten x1 and x2\n",
    "            net.reset_hook()\n",
    "            net.register_hook(register=True) \n",
    "\n",
    "            x1_ = x1.view(x1.shape[0], -1).clone()\n",
    "            x2_ = x2.view(x2.shape[0], -1).clone()\n",
    "            if k == 'mm':\n",
    "                x1_ = torch.rand_like(x1_)* 1e-3\n",
    "                x2_ = x1_.clone()\n",
    "            s2_ = s2.clone()\n",
    "            mm[k]['speed'].append(s2_.numpy())\n",
    "\n",
    "            l4_out, l23_out, l5_pred, l5_out, recon = net(x1_, x2_, s2_)\n",
    "            \n",
    "            if (i > len(dataloader_mm)/4) and (i < len(dataloader_mm)/2 + 100):\n",
    "                if k == 'mm' and l5_scale != 0:\n",
    "                    mm[k]['l5_scale_indices'].append(i)\n",
    "                    # create a mask where only l5_indices are set to 1 and the rest to 0\n",
    "                    if l5_indices is None:\n",
    "                        mask = torch.ones_like(l5_out)\n",
    "                    else:\n",
    "                        mask = torch.zeros_like(l5_out)\n",
    "                        mask[:, l5_indices] = 1\n",
    "                    l5_out = l5_out + (torch.ones_like(l5_out)*torch.max(torch.abs(l5_out))*l5_scale) * mask\n",
    "                if k == 'mm' and l23_scale != 0:\n",
    "                    net.l23.l23_scale = l23_scale\n",
    "            else:\n",
    "                net.l23.l23_scale = 0\n",
    "                \n",
    "            loss = recon_loss_coeff*F.mse_loss(recon, x2_) + F.mse_loss(l5_pred, l5_out)\n",
    "            optimizer.zero_grad()\n",
    "            loss.backward()\n",
    "\n",
    "            mm[k]['L2/3_fc1'].append(net.l23.hook['fc1'][0][0].numpy())\n",
    "            mm[k]['L5_fc1'].append(net.l5.hook['fc1'][0][0].numpy())\n",
    "\n",
    "    return mm"
   ]
  },
  {
   "cell_type": "code",
   "execution_count": null,
   "metadata": {},
   "outputs": [],
   "source": []
  },
  {
   "cell_type": "markdown",
   "metadata": {},
   "source": [
    "# multi-layer network"
   ]
  },
  {
   "cell_type": "code",
   "execution_count": 4,
   "metadata": {},
   "outputs": [
    {
     "name": "stdout",
     "output_type": "stream",
     "text": [
      "speeds=array([ 0.,  1.,  2.,  3.,  4.,  5.,  6.,  7.,  8.,  9., 10.])\n"
     ]
    }
   ],
   "source": [
    "var_scaler=2.0 ; num_speeds=11 ; input_dim=8 ; max_value=10\n",
    "dataset = SyntheticVisualFlowDataset(num_samples=2000, dimensions=input_dim, max_value=max_value,  var_scaler=var_scaler, speed_func=\"random_walk\", num_speeds=num_speeds)\n",
    "\n",
    "\n",
    "dataloader = DataLoader(dataset, batch_size=32, shuffle=False, collate_fn=custom_collate_fn)"
   ]
  },
  {
   "cell_type": "code",
   "execution_count": 5,
   "metadata": {},
   "outputs": [
    {
     "name": "stdout",
     "output_type": "stream",
     "text": [
      "visual_flow_t.shape=torch.Size([32, 8]) / visual_flow_tp1.shape=torch.Size([32, 8]) / speeds_t.shape=torch.Size([32, 1]) / speeds_tp1.shape=torch.Size([32, 1])\n"
     ]
    }
   ],
   "source": [
    "visual_flow_t, visual_flow_tp1, td, speeds_t, speeds_tp1 = next(iter(dataloader))\n",
    "print(f'{visual_flow_t.shape=} / {visual_flow_tp1.shape=} / {speeds_t.shape=} / {speeds_tp1.shape=}')"
   ]
  },
  {
   "cell_type": "code",
   "execution_count": 6,
   "metadata": {},
   "outputs": [],
   "source": [
    "\n",
    "def moving_average(x, w):\n",
    "    return np.convolve(x, np.ones(w), 'valid') / w"
   ]
  },
  {
   "cell_type": "code",
   "execution_count": 9,
   "metadata": {},
   "outputs": [
    {
     "name": "stdout",
     "output_type": "stream",
     "text": [
      "\u001b[94mExperiment: mismach experiment\u001b[0m\n"
     ]
    }
   ],
   "source": [
    "args = Namespace()\n",
    "args.input_dim = input_dim\n",
    "args.hidden_dim = 32\n",
    "args.latent_dim = 16\n",
    "args.td = 1 # 1\n",
    "args.lr = 1e-3\n",
    "args.epoch = 1101\n",
    "args.batch_size = 32\n",
    "args.ablate_l23_l5=False\n",
    "args.ablate_topdown=False\n",
    "args.ablate_delay=False\n",
    "args.activation='relu'\n",
    "args.l23_modulation_factor=0.3\n",
    "\n",
    "device = torch.device('cuda' if torch.cuda.is_available() else 'cpu')\n",
    "\n",
    "logger = Logger('mismach experiment')\n",
    "net = init_model(ShallowMLP,  **vars(args), logger=logger)\n",
    "net = net.to(device)\n",
    "optimizer = optim.Adam(net.parameters(), lr=args.lr)\n",
    "\n",
    "trainer = Trainer(net, dataloader, optimizer, args, logger, device)"
   ]
  },
  {
   "cell_type": "code",
   "execution_count": 10,
   "metadata": {},
   "outputs": [
    {
     "name": "stdout",
     "output_type": "stream",
     "text": [
      "epoch: 0, ssl_loss: 13.075563110056377, recon_loss: 119.58553180618891\n",
      "epoch: 100, ssl_loss: 0.12232106510135862, recon_loss: 0.08526118064210528\n",
      "epoch: 200, ssl_loss: 0.05951621554910191, recon_loss: 0.0316252096127423\n",
      "epoch: 300, ssl_loss: 0.028602695743006373, recon_loss: 0.009541402748298077\n",
      "epoch: 400, ssl_loss: 0.01957726132656847, recon_loss: 0.006916154286868516\n",
      "epoch: 500, ssl_loss: 0.014852382597469148, recon_loss: 0.006484364898550132\n",
      "epoch: 600, ssl_loss: 0.013619214458952821, recon_loss: 0.007344534103241231\n",
      "epoch: 700, ssl_loss: 0.011028881731723983, recon_loss: 0.005779853423259088\n",
      "epoch: 800, ssl_loss: 0.010069522895805892, recon_loss: 0.006050119764127192\n",
      "epoch: 900, ssl_loss: 0.009393900847210297, recon_loss: 0.006231970002224285\n",
      "epoch: 1000, ssl_loss: 0.00878710500038569, recon_loss: 0.007603305783714094\n",
      "epoch: 1100, ssl_loss: 0.008357832577848246, recon_loss: 0.006512459071855697\n"
     ]
    }
   ],
   "source": [
    "trainer.train()"
   ]
  },
  {
   "cell_type": "code",
   "execution_count": null,
   "metadata": {},
   "outputs": [],
   "source": []
  },
  {
   "cell_type": "code",
   "execution_count": 11,
   "metadata": {},
   "outputs": [],
   "source": [
    "\n",
    "class MidpointNormalize(colors.Normalize):\n",
    "    \"\"\"Normalise the colorbar.\"\"\"\n",
    "    def __init__(self, vmin=None, vmax=None, midpoint=None, clip=False):\n",
    "        self.midpoint = midpoint\n",
    "        colors.Normalize.__init__(self, vmin, vmax, clip)\n",
    "    def __call__(self, value, clip=None):\n",
    "        x, y = [self.vmin, self.midpoint, self.vmax], [0, 0.5, 1]\n",
    "        return np.ma.masked_array(np.interp(value, x, y), np.isnan(value))\n",
    "    \n",
    "def plot_heatmap(data, ax,  name, color_bar=False, save_fig=False):\n",
    "    # sorted_data = data\n",
    "    sorted_data = data[np.mean(data, axis=1).argsort()][::-1]\n",
    "    # sorted_data = data\n",
    "    min_, max_ = -np.max(np.abs(sorted_data)), np.max(np.abs(sorted_data))\n",
    "    mymin, mymax =min_, max_\n",
    "    print(mymin, mymax)\n",
    "    cmap = LinearSegmentedColormap.from_list(\"\", [\"#23327b\",\"white\", \"#af0e51\"])\n",
    "\n",
    "\n",
    "    im = ax.imshow(sorted_data, norm=MidpointNormalize(mymin, mymax, 0.),\n",
    "                    aspect='auto',interpolation='nearest', cmap=cmap)\n",
    "    \n",
    "    ax.tick_params(\n",
    "            axis='x',          # changes apply to the x-axis\n",
    "            which='both',      # both major and minor ticks are affected\n",
    "            bottom=False,      # ticks along the bottom edge are off\n",
    "            top=False,         # ticks along the top edge are off\n",
    "            labelbottom=True,\n",
    "            labelsize=config.axis_fontsize # labels along the bottom edge are off\n",
    "            ) # labels along the bottom edge are off\n",
    "    ax.set_xlabel('Time [s]', fontsize=config.axis_fontsize)\n",
    "    ax.set_ylabel('sorted neuron #', fontsize=config.axis_fontsize)\n",
    "    divider = make_axes_locatable(ax)\n",
    "    if color_bar:\n",
    "        cbformat = matplotlib.ticker.ScalarFormatter()   # create the formatter\n",
    "        cbformat.set_powerlimits((-2,2))  \n",
    "        cax = divider.append_axes('right', size='5%', pad=0.05)\n",
    "        cbar_ax = plt.colorbar(im, cax=cax, orientation='vertical',format=cbformat)\n",
    "        cbar_ax.ax.tick_params(labelsize=config.tick_fontsize)\n",
    "        cbar_ax.set_label('prediction error', fontsize=config.axis_fontsize)\n",
    "    # ax.set_ylabel('Sorted neurons #')\n",
    "    ax.set_yticks(np.arange(0,data.shape[0],4), minor=False)\n",
    "    # yticks font size\n",
    "    ax.yaxis.set_tick_params(labelsize=config.tick_fontsize) \n",
    "    if save_fig:\n",
    "        plt.savefig(f'saved_figs/{name}', dpi=300, bbox_inches='tight')\n",
    "    else:\n",
    "        print('not saving fig')\n"
   ]
  },
  {
   "cell_type": "code",
   "execution_count": 12,
   "metadata": {},
   "outputs": [
    {
     "name": "stdout",
     "output_type": "stream",
     "text": [
      "speeds=array([ 0.,  1.,  2.,  3.,  4.,  5.,  6.,  7.,  8.,  9., 10.])\n"
     ]
    }
   ],
   "source": [
    "dataset_mm = SyntheticVisualFlowDataset(num_samples=2000, dimensions=input_dim, max_value=max_value, var_scaler=var_scaler, speed_func=\"random_walk\", num_speeds=num_speeds)\n",
    "dataloader_mm = DataLoader(dataset_mm, batch_size=1, shuffle=False)\n",
    "mm_toy = get_mm(net, dataloader_mm, recon_loss_coeff=0.0)"
   ]
  },
  {
   "cell_type": "code",
   "execution_count": 13,
   "metadata": {},
   "outputs": [
    {
     "name": "stdout",
     "output_type": "stream",
     "text": [
      "-2.354676 2.354676\n",
      "not saving fig\n",
      "-0.9871576 0.9871576\n",
      "not saving fig\n"
     ]
    },
    {
     "data": {
      "image/png": "[encoded data removed]",
      "text/plain": [
       "<Figure size 150x300 with 4 Axes>"
      ]
     },
     "metadata": {},
     "output_type": "display_data"
    }
   ],
   "source": [
    "mm_l23 = (np.array(mm_toy['mm'][\"L2/3_fc1\"]) - np.array(mm_toy['baseline'][\"L2/3_fc1\"])).T\n",
    "mm_l5 = (np.array(mm_toy['mm'][\"L5_fc1\"]) - np.array(mm_toy['baseline'][\"L5_fc1\"])).T\n",
    "mm_l23_plot = np.concatenate((np.array(mm_toy['baseline'][\"L2/3_fc1\"]).T, mm_l23, np.array(mm_toy['baseline'][\"L2/3_fc1\"]).T), axis=1)\n",
    "mm_l5_plot = np.concatenate((np.array(mm_toy['baseline'][\"L5_fc1\"]).T, mm_l5, np.array(mm_toy['baseline'][\"L5_fc1\"]).T), axis=1)\n",
    "fig, ax = plt.subplots(2,1,figsize=(1.5,3.),gridspec_kw={'height_ratios': [2.6,1]})\n",
    "plot_heatmap(mm_l23_plot, ax=ax[0], color_bar=True, name='mm_l23_heatmap_modulate_l5.svg', save_fig=False)\n",
    "plot_heatmap(mm_l5_plot, ax=ax[1], color_bar=True,name='mm_l5_heatmap_modulate_l5.svg', save_fig=False)"
   ]
  },
  {
   "cell_type": "code",
   "execution_count": 14,
   "metadata": {},
   "outputs": [],
   "source": [
    "sorted_data_l23 = mm_l23_plot[np.mean(mm_l23_plot, axis=1).argsort()][::-1]\n",
    "sorted_data_l5 = mm_l5_plot[np.mean(mm_l5_plot, axis=1).argsort()][::-1]\n",
    "def ma_2d(arr, window=2):\n",
    "    ma_arr = []\n",
    "    for i in range(arr.shape[0]):\n",
    "        ma_arr.append(np.convolve(arr[i,:], np.ones(window)/window, mode='valid'))\n",
    "    return np.array(ma_arr)\n",
    "sorted_data_l23_ma = ma_2d(sorted_data_l23, window=600)\n",
    "sorted_data_l5_ma = ma_2d(sorted_data_l5, window=600)"
   ]
  },
  {
   "cell_type": "code",
   "execution_count": 15,
   "metadata": {},
   "outputs": [
    {
     "data": {
      "text/plain": [
       "<matplotlib.legend.Legend at 0x794fc0166a40>"
      ]
     },
     "execution_count": 15,
     "metadata": {},
     "output_type": "execute_result"
    },
    {
     "data": {
      "image/png": "[encoded data removed]",
      "text/plain": [
       "<Figure size 640x480 with 1 Axes>"
      ]
     },
     "metadata": {},
     "output_type": "display_data"
    }
   ],
   "source": [
    "sorted_data_l23_ma_ = ma_2d(sorted_data_l23, window=80)\n",
    "sorted_data_l5_ma_ = ma_2d(sorted_data_l5, window=80)\n",
    "plt.plot(sorted_data_l23_ma_[0, :], label='23')\n",
    "plt.plot(sorted_data_l5_ma_[-1, :] ,label='5')\n",
    "plt.legend()\n"
   ]
  },
  {
   "cell_type": "code",
   "execution_count": 16,
   "metadata": {},
   "outputs": [
    {
     "data": {
      "text/plain": [
       "<matplotlib.collections.PolyCollection at 0x794fac935420>"
      ]
     },
     "execution_count": 16,
     "metadata": {},
     "output_type": "execute_result"
    },
    {
     "data": {
      "image/png": "[encoded data removed]",
      "text/plain": [
       "<Figure size 300x100 with 2 Axes>"
      ]
     },
     "metadata": {},
     "output_type": "display_data"
    }
   ],
   "source": [
    "# sampled single neurons at different timestams\n",
    "l23_neuron = []\n",
    "l5_neuron = []\n",
    "\n",
    "for i in range(5):\n",
    "    l23_neuron.append(sorted_data_l23_ma_[1, i*2:][:sorted_data_l23_ma_.shape[1]-10])\n",
    "    l5_neuron.append(sorted_data_l5_ma_[-2, i*2:][:sorted_data_l5_ma_.shape[1]-10])\n",
    "l23_neuron = np.array(l23_neuron)\n",
    "l5_neuron = np.array(l5_neuron)\n",
    "l23_neuron.shape, l5_neuron.shape\n",
    "\n",
    "l23_neuron_mu = np.mean(l23_neuron, axis=0)\n",
    "l23_neuron_std = np.std(l23_neuron, axis=0)\n",
    "\n",
    "l5_neuron_mu = np.mean(l5_neuron, axis=0)\n",
    "l5_neuron_std = np.std(l5_neuron, axis=0)*2\n",
    "\n",
    "x = np.arange(0, l23_neuron_mu.shape[0], 1)\n",
    "\n",
    "fig, ax = plt.subplots(1,2, figsize=(3,1))\n",
    "ax[0].plot(x, l23_neuron_mu, '#af0e51', lw=0.9)\n",
    "ax[0].fill_between(x, l23_neuron_mu-l23_neuron_std, l23_neuron_mu+l23_neuron_std, edgecolor='#af0e51', facecolor='#af0e51', alpha=0.5)\n",
    "ax[1].plot(x, l5_neuron_mu, '#23327b', lw=0.9) # af0e51\n",
    "ax[1].fill_between(x, l5_neuron_mu-l5_neuron_std, l5_neuron_mu+l5_neuron_std, edgecolor='#23327b', facecolor='#23327b', alpha=0.5)"
   ]
  },
  {
   "cell_type": "code",
   "execution_count": null,
   "metadata": {},
   "outputs": [],
   "source": []
  },
  {
   "cell_type": "code",
   "execution_count": 17,
   "metadata": {},
   "outputs": [
    {
     "name": "stdout",
     "output_type": "stream",
     "text": [
      "not saving fig\n",
      "not saving fig\n"
     ]
    },
    {
     "data": {
      "image/png": "[encoded data removed]",
      "text/plain": [
       "<Figure size 150x150 with 1 Axes>"
      ]
     },
     "metadata": {},
     "output_type": "display_data"
    },
    {
     "data": {
      "image/png": "[encoded data removed]",
      "text/plain": [
       "<Figure size 150x150 with 1 Axes>"
      ]
     },
     "metadata": {},
     "output_type": "display_data"
    }
   ],
   "source": [
    "def plot_average_response(data, dmm_idices, null_indices, hmm_indices, name, save_fig):\n",
    "    fig , ax = plt.subplots(1,1,figsize=(1.5,1.5))\n",
    "    x = np.arange(0,sorted_data_l23_ma.shape[1])\n",
    "    y_dmm = data[dmm_idices, :].mean(axis=0)\n",
    "    y_null = data[null_indices, :].mean(axis=0)\n",
    "    y_hmm = data[hmm_indices, :].mean(axis=0)\n",
    "\n",
    "    error_dmm = data[dmm_idices, :].std(axis=0) / 10\n",
    "    error_null = data[null_indices, :].std(axis=0) / 10\n",
    "    error_hmm = data[hmm_indices, :].std(axis=0) / 10\n",
    "    ax.plot(x, y_dmm, '#f55d2f')\n",
    "    ax.fill_between(x, y_dmm-error_dmm, y_dmm+error_dmm, alpha=0.2, color='#f55d2f')\n",
    "\n",
    "    ax.plot(x, y_null, 'gray')\n",
    "    ax.fill_between(x, y_null-error_null, y_null+error_null, alpha=0.2, color='gray')\n",
    "\n",
    "    ax.plot(x, y_hmm, '#2f98f5')\n",
    "    ax.fill_between(x, y_hmm-error_hmm, y_hmm+error_hmm, alpha=0.2, color='#2f98f5')\n",
    "    \n",
    "    # hline at 0\n",
    "    ax.axhline(0, color='black', linestyle='--', linewidth=0.5)\n",
    "\n",
    "    # remove all the ticks (both axes), spines values on the axis\n",
    "    ax.tick_params(top=False, bottom=False, left=False, right=False, labelleft=False, labelbottom=False)\n",
    "    ax.spines['right'].set_visible(False)\n",
    "    ax.spines['top'].set_visible(False)\n",
    "    ax.spines['left'].set_visible(False)\n",
    "    ax.spines['bottom'].set_visible(False)\n",
    "    \n",
    "    if save_fig:\n",
    "        plt.savefig(f'saved_figs/{name}', dpi=300, bbox_inches='tight')\n",
    "    else:\n",
    "        print('not saving fig')\n",
    "        \n",
    "    \n",
    "plot_average_response(sorted_data_l23_ma, dmm_idices=np.arange(0,20), null_indices=np.arange(20,25), hmm_indices=np.arange(25,30), name='mm_avg_l23_modulate_l5.svg', save_fig=False)\n",
    "plot_average_response(sorted_data_l5_ma, dmm_idices=np.arange(0,5), null_indices=np.arange(5,10), hmm_indices=np.arange(10,16), name='mm_avg_l5_modulate_l5.svg', save_fig=False)\n"
   ]
  },
  {
   "cell_type": "code",
   "execution_count": 18,
   "metadata": {},
   "outputs": [
    {
     "name": "stderr",
     "output_type": "stream",
     "text": [
      "/tmp/ipykernel_8263/3927199572.py:29: DeprecationWarning: Please use `pearsonr` from the `scipy.stats` namespace, the `scipy.stats.stats` namespace is deprecated.\n",
      "  from scipy.stats.stats import pearsonr\n"
     ]
    },
    {
     "name": "stdout",
     "output_type": "stream",
     "text": [
      "l_pearson=PearsonRResult(statistic=0.9966023805461565, pvalue=1.1740537240090176e-216)\n",
      "l_pearson=PearsonRResult(statistic=-0.9919518338849931, pvalue=1.1197829390693538e-179)\n"
     ]
    },
    {
     "data": {
      "image/png": "[encoded data removed]",
      "text/plain": [
       "<Figure size 130x130 with 1 Axes>"
      ]
     },
     "metadata": {},
     "output_type": "display_data"
    },
    {
     "data": {
      "image/png": "[encoded data removed]",
      "text/plain": [
       "<Figure size 130x130 with 1 Axes>"
      ]
     },
     "metadata": {},
     "output_type": "display_data"
    }
   ],
   "source": [
    "def plot_mm_corr(mm_toy, layer,neuron_idx, name, save_fig=False):\n",
    "    fig, ax = plt.subplots(1,1, figsize=(1.3,1.3))\n",
    "    mm = (np.array(mm_toy['mm'][layer]) - np.array(mm_toy['baseline'][layer])).T\n",
    "    mm = mm[np.mean(mm, axis=1).argsort()][::-1]\n",
    "    speeds =np.array(mm_toy['mm']['speed']).squeeze()\n",
    "    mm =mm[:, ::10]\n",
    "    speeds = speeds[::10]\n",
    "    c = \"#23327b\" if layer == 'L5_fc1' else \"#af0e51\"\n",
    "    for j in range(mm.shape[1]):\n",
    "\n",
    "        ax.scatter(speeds[j], mm[neuron_idx, j], s=15, color=c, facecolors='none', linewidths=0.3)\n",
    "\n",
    "    m, b = np.polyfit(speeds, mm[neuron_idx], 1)\n",
    "    ax.plot(speeds, m*speeds + b, c=c)\n",
    "\n",
    "    ax.set_xlabel('locomotion speed (a.u.)', fontsize=config.axis_fontsize)\n",
    "    ax.set_ylabel('prediction error (a.u.)', fontsize=config.axis_fontsize)\n",
    "    plt.xticks(fontsize=config.axis_fontsize)\n",
    "    plt.yticks(fontsize=config.axis_fontsize)\n",
    "    \n",
    "    # ax.set_title(layer)\n",
    "    # draw a line at 0\n",
    "    ax.axhline(0, color='k', linestyle='--', linewidth=1)\n",
    "    \n",
    "    # remove spines\n",
    "    ax.spines['right'].set_visible(False)\n",
    "    ax.spines['top'].set_visible(False)\n",
    "    \n",
    "    from scipy.stats.stats import pearsonr  \n",
    "    l_pearson = pearsonr(speeds, mm[neuron_idx])\n",
    "    print(f\"{l_pearson=}\")\n",
    "\n",
    "    if save_fig is not None:\n",
    "        plt.savefig(f'saved_figs/{name}', dpi=300, bbox_inches='tight')\n",
    "    else:\n",
    "        print('not saving fig')\n",
    "\n",
    "# plot_mm_corr(mm_toy, save_path='figs/mismatch/toy_scale_mm_corr_8.png')\n",
    "plot_mm_corr(mm_toy, layer='L2/3_fc1', neuron_idx=0, name=\"mm_l23_corr_speed.svg\" , save_fig=True)\n",
    "plot_mm_corr(mm_toy, layer='L5_fc1', neuron_idx=-1, name=\"mm_l5_corr_speed.svg\" , save_fig=True)\n"
   ]
  },
  {
   "cell_type": "markdown",
   "metadata": {},
   "source": [
    "## Optogenetic Manipulation"
   ]
  },
  {
   "cell_type": "code",
   "execution_count": 19,
   "metadata": {},
   "outputs": [],
   "source": [
    "def plot_opto(mm_data, dmm_indices, hmm_indices, scale,  layer, name, save_fig=False):\n",
    "    fig, ax = plt.subplots(1,2, figsize=(3,1.))\n",
    "    l23_opto_data_ma = ma_2d(np.array(mm_data[scale][layer]), window=50)\n",
    "    y_dmm_opto = np.array(l23_opto_data_ma[dmm_indices,:]).T.mean(axis=1)\n",
    "    y_hmm_opto = np.array(l23_opto_data_ma[hmm_indices,:]).T.mean(axis=1)\n",
    "    y_dmm_error_opto = np.array(l23_opto_data_ma)[dmm_indices,:].T.std(axis=1)\n",
    "    y_hmm_error_opto = np.array(l23_opto_data_ma)[hmm_indices,:].T.std(axis=1)\n",
    "\n",
    "    y_dmm_opto.shape, y_hmm_opto.shape, y_dmm_error_opto.shape, y_hmm_error_opto.shape\n",
    "\n",
    "    ax[0].plot(np.arange(0, y_dmm_opto.shape[0]), y_dmm_opto, '#f55d2f')\n",
    "    ax[0].fill_between(np.arange(0, y_dmm_opto.shape[0]), y_dmm_opto-y_dmm_error_opto, y_dmm_opto+y_dmm_error_opto, alpha=0.2, color='#f55d2f')\n",
    "\n",
    "    ax[1].plot(np.arange(0, y_dmm_opto.shape[0]), y_hmm_opto, '#2f98f5')\n",
    "    ax[1].fill_between(np.arange(0, y_dmm_opto.shape[0]), y_hmm_opto-y_hmm_error_opto, y_hmm_opto+y_hmm_error_opto, alpha=0.2, color='#2f98f5')\n",
    "\n",
    "    # hline at 0\n",
    "    ax[0].axhline(0, color='black', linestyle='--', linewidth=0.5)\n",
    "    ax[1].axhline(0, color='black', linestyle='--', linewidth=0.5)\n",
    "\n",
    "    # remove all the ticks (both axes), spines values on the axis\n",
    "    ax[0].spines['right'].set_visible(False)\n",
    "    ax[0].spines['top'].set_visible(False)\n",
    "    ax[1].spines['right'].set_visible(False)\n",
    "    ax[1].spines['top'].set_visible(False)\n",
    "    # set fontsize for ticks\n",
    "    ax[0].tick_params(axis='both', which='major', labelsize=config.axis_fontsize)\n",
    "    ax[1].tick_params(axis='both', which='major', labelsize=config.axis_fontsize)\n",
    "    ax[0].set_xlabel('time', fontsize=config.axis_fontsize)\n",
    "    ax[0].set_ylabel('prediction error', fontsize=config.axis_fontsize)\n",
    "    # if save_fig:\n",
    "    #     plt.savefig(f'saved_figs/{name}', dpi=300, bbox_inches='tight')\n",
    "    # else:\n",
    "    #     print('not saving fig')\n"
   ]
  },
  {
   "cell_type": "markdown",
   "metadata": {},
   "source": [
    "### Stimulate layer 5"
   ]
  },
  {
   "cell_type": "code",
   "execution_count": 20,
   "metadata": {},
   "outputs": [],
   "source": [
    "l23_indices_sorted = np.mean(mm_l23_plot, axis=1).argsort()[::-1]\n",
    "l5_indices_sorted = np.mean(mm_l5_plot, axis=1).argsort()[::-1]\n",
    "\n",
    "l23_dmm_indices = list(l23_indices_sorted[:10])\n",
    "l23_hmm_indices = list(l23_indices_sorted[-5:])\n",
    "\n",
    "l5_dmm_indices = list(l5_indices_sorted[:3])\n",
    "l5_hmm_indices = list(l5_indices_sorted[-10:])\n"
   ]
  },
  {
   "cell_type": "code",
   "execution_count": 21,
   "metadata": {},
   "outputs": [
    {
     "data": {
      "text/plain": [
       "[13, 3, 4]"
      ]
     },
     "execution_count": 21,
     "metadata": {},
     "output_type": "execute_result"
    }
   ],
   "source": [
    "l5_dmm_indices"
   ]
  },
  {
   "cell_type": "code",
   "execution_count": 31,
   "metadata": {},
   "outputs": [
    {
     "name": "stdout",
     "output_type": "stream",
     "text": [
      "speeds=array([ 0.,  1.,  2.,  3.,  4.,  5.,  6.,  7.,  8.,  9., 10.])\n",
      "speeds=array([ 0.,  1.,  2.,  3.,  4.,  5.,  6.,  7.,  8.,  9., 10.])\n",
      "speeds=array([ 0.,  1.,  2.,  3.,  4.,  5.,  6.,  7.,  8.,  9., 10.])\n",
      "speeds=array([ 0.,  1.,  2.,  3.,  4.,  5.,  6.,  7.,  8.,  9., 10.])\n",
      "speeds=array([ 0.,  1.,  2.,  3.,  4.,  5.,  6.,  7.,  8.,  9., 10.])\n"
     ]
    },
    {
     "data": {
      "image/png": "[encoded data removed]",
      "text/plain": [
       "<Figure size 300x100 with 2 Axes>"
      ]
     },
     "metadata": {},
     "output_type": "display_data"
    }
   ],
   "source": [
    "mm_data_l23 = {}\n",
    "l5_scales = [0, 20, 40, 60, 80]\n",
    "for l5_scale in l5_scales:\n",
    "\n",
    "    dataset = SyntheticVisualFlowDataset(num_samples=1000, dimensions=input_dim, max_value=max_value, var_scaler=var_scaler, speed_func=\"random_walk\", num_speeds=num_speeds)\n",
    "    dataloader_mm = DataLoader(dataset, batch_size=1, shuffle=False)\n",
    "\n",
    "    mm_toy = get_mm(net, dataloader_mm, recon_loss_coeff=0, l5_scale=l5_scale, l23_scale=0)\n",
    "    mm_l23_fc1 = (np.array(mm_toy['mm'][\"L2/3_fc1\"]) - np.array(mm_toy['baseline'][\"L2/3_fc1\"])).T\n",
    "    mm_l5_fc1 = (np.array(mm_toy['mm'][\"L5_fc1\"]) - np.array(mm_toy['baseline'][\"L5_fc1\"])).T\n",
    "    \n",
    "    mm_data_l23[l5_scale] = {\"L23_fc1\":mm_l23_fc1 , \"L5_fc1\":mm_l5_fc1}\n",
    "    \n",
    "dmm_indices = np.mean(mm_data_l23[0]['L23_fc1'], axis=1).argsort()[::-1][:5]\n",
    "hmm_indices = np.mean(mm_data_l23[0]['L23_fc1'], axis=1).argsort()[::-1][-5:]\n",
    "plot_opto(mm_data_l23, dmm_indices, hmm_indices, l5_scales[-1], 'L23_fc1', 'l5_opto.svg', save_fig=False)"
   ]
  },
  {
   "cell_type": "code",
   "execution_count": 34,
   "metadata": {},
   "outputs": [
    {
     "name": "stdout",
     "output_type": "stream",
     "text": [
      "(32, 999)\n",
      "(32, 999)\n",
      "(32, 999)\n",
      "(32, 999)\n",
      "(32, 999)\n",
      "(5, 32)\n",
      "[ 2 11 13 24] [28]\n",
      "[array([  1.0063313,  -3.9186153,  -7.761326 , -11.226403 , -12.298056 ],\n",
      "      dtype=float32), array([-0.7305248,  2.9663172,  5.831011 ,  8.429172 ,  9.237477 ],\n",
      "      dtype=float32)]\n",
      "   scale type       mean       std\n",
      "0      0  dmm   1.006331  0.114567\n",
      "1     20  dmm  -3.918615  0.563924\n",
      "2     40  dmm  -7.761326  0.936916\n",
      "3     60  dmm -11.226403  1.317109\n",
      "4     80  dmm -12.298056  1.436338\n",
      "5      0  hmm  -0.730525  0.000000\n",
      "6     20  hmm   2.966317  0.000000\n",
      "7     40  hmm   5.831011  0.000000\n",
      "8     60  hmm   8.429172  0.000000\n",
      "9     80  hmm   9.237477  0.000000\n"
     ]
    },
    {
     "data": {
      "image/png": "[encoded data removed]",
      "text/plain": [
       "<Figure size 150x150 with 1 Axes>"
      ]
     },
     "metadata": {},
     "output_type": "display_data"
    }
   ],
   "source": [
    "mm_data_mean_l23 = {}\n",
    "for s in l5_scales:\n",
    "    print(mm_data_l23[s]['L23_fc1'].shape)\n",
    "    mm_data_mean_l23[s] = np.mean(mm_data_l23[s]['L23_fc1'], axis=1)\n",
    "    \n",
    "\n",
    "mm_data_mean = {\"L23_fc1\":mm_l23_fc1 , \"L5_fc1\":mm_l5_fc1}\n",
    "\n",
    "\n",
    "\n",
    "scale_data = []\n",
    "\n",
    "\n",
    "for scale in mm_data_l23.keys():\n",
    "    scale_data.append(mm_data_mean_l23[scale])\n",
    "scale_data = np.array(scale_data)\n",
    "print(scale_data.shape)\n",
    "\n",
    "import seaborn as sns\n",
    "import pandas as pd\n",
    "dmm_idx = np.where(np.mean(scale_data[:1, :], axis=0) > 0.8)[0]\n",
    "hmm_idx = np.where(np.mean(scale_data[:1, :], axis=0) < -0.6)[0]\n",
    "print(dmm_idx, hmm_idx)\n",
    "print([np.mean(scale_data[:, dmm_idx], axis=1), np.mean(scale_data[:, hmm_idx], axis=1)])\n",
    "df = pd.DataFrame(columns=['scale', 'type', 'mean', 'std'])\n",
    "df['scale'] = l5_scales * 2\n",
    "df['type'] = ['dmm']*len(l5_scales) + ['hmm']*len(l5_scales)\n",
    "df['mean'] = np.concatenate([np.mean(scale_data[:, dmm_idx], axis=1), np.mean(scale_data[:, hmm_idx], axis=1)])\n",
    "df['std'] = np.concatenate([np.std(scale_data[:, dmm_idx], axis=1), np.std(scale_data[:, hmm_idx], axis=1)])\n",
    "\n",
    "\n",
    "\n",
    "print(df)\n",
    "fig, ax = plt.subplots(figsize=(1.5, 1.5))\n",
    "# ensure the color of the line For dMM use the #b51460ff color and for hMM use the #3859a8ff color\n",
    "sns.lineplot(x=\"scale\", y=\"mean\", hue=\"type\", data=df, ax=ax, linewidth=2, style=\"type\", markers=[\"o\", \"v\"], markersize=6, dashes=False, palette=[\"gray\", \"#474747\"], errorbar=\"se\")\n",
    "\n",
    "ax.set_xlabel(\"L5 output scale\", fontsize=config.axis_fontsize)\n",
    "# add the error bar \n",
    "ax.errorbar(x=l5_scales, y=np.mean(scale_data[:, dmm_idx], axis=1), yerr=np.std(scale_data[:, dmm_idx], axis=1)/ np.sqrt(scale_data.shape[0]) , fmt='none', ecolor='gray', elinewidth=1, capsize=3)\n",
    "ax.errorbar(x=l5_scales, y=np.mean(scale_data[:, hmm_idx], axis=1), yerr=np.std(scale_data[:, hmm_idx], axis=1)/ np.sqrt(scale_data.shape[0]), fmt='none', ecolor='#474747', elinewidth=1, capsize=3)\n",
    "ax.set_ylabel(\"L2/3 prediction error\", fontsize=config.axis_fontsize)\n",
    "\n",
    "ax.axhline(y=0, color='gray', linestyle='--', linewidth=1)\n",
    "# remove legend\n",
    "ax.legend_.remove()\n",
    "# set the font size of the ticks\n",
    "ax.tick_params(axis='both', which='major', labelsize=config.axis_fontsize)\n",
    "# add the legend\n",
    "sns.despine()\n",
    "\n",
    "import matplotlib.lines as mlines\n",
    "gray_circle = mlines.Line2D([], [], color='gray', marker='o', linestyle='None',\n",
    "                          markersize=3, label='positive')\n",
    "black_triangle = mlines.Line2D([], [], color='#474747', marker='v', linestyle='None',\n",
    "                          markersize=3, label='negative')\n",
    "\n",
    "\n",
    "marker_legend =plt.legend(handles=[gray_circle, black_triangle], title='', fontsize=config.axis_fontsize-1)\n",
    "plt.savefig('saved_figs/opto_summary_scales_l23.svg', dpi=300, bbox_inches='tight')"
   ]
  },
  {
   "cell_type": "code",
   "execution_count": 25,
   "metadata": {},
   "outputs": [
    {
     "name": "stdout",
     "output_type": "stream",
     "text": [
      "speeds=array([ 0.,  1.,  2.,  3.,  4.,  5.,  6.,  7.,  8.,  9., 10.])\n",
      "speeds=array([ 0.,  1.,  2.,  3.,  4.,  5.,  6.,  7.,  8.,  9., 10.])\n",
      "speeds=array([ 0.,  1.,  2.,  3.,  4.,  5.,  6.,  7.,  8.,  9., 10.])\n",
      "speeds=array([ 0.,  1.,  2.,  3.,  4.,  5.,  6.,  7.,  8.,  9., 10.])\n",
      "speeds=array([ 0.,  1.,  2.,  3.,  4.,  5.,  6.,  7.,  8.,  9., 10.])\n"
     ]
    },
    {
     "data": {
      "image/png": "[encoded data removed]",
      "text/plain": [
       "<Figure size 300x100 with 2 Axes>"
      ]
     },
     "metadata": {},
     "output_type": "display_data"
    }
   ],
   "source": [
    "## scale only hmm\n",
    "mm_data_l23 = {}\n",
    "l5_scales = [0, 20, 40, 60, 80]\n",
    "for l5_scale in l5_scales:\n",
    "\n",
    "    dataset = SyntheticVisualFlowDataset(num_samples=1000, dimensions=input_dim, max_value=max_value, var_scaler=var_scaler, speed_func=\"random_walk\", num_speeds=num_speeds)\n",
    "    dataloader_mm = DataLoader(dataset, batch_size=1, shuffle=False)\n",
    "\n",
    "    mm_toy = get_mm(net, dataloader_mm, recon_loss_coeff=0, l5_scale=l5_scale, l23_scale=0, l5_indices=l5_hmm_indices, l23_indices=None)\n",
    "    mm_l23_fc1 = (np.array(mm_toy['mm'][\"L2/3_fc1\"]) - np.array(mm_toy['baseline'][\"L2/3_fc1\"])).T\n",
    "    mm_l5_fc1 = (np.array(mm_toy['mm'][\"L5_fc1\"]) - np.array(mm_toy['baseline'][\"L5_fc1\"])).T\n",
    "    \n",
    "    mm_data_l23[l5_scale] = {\"L23_fc1\":mm_l23_fc1 , \"L5_fc1\":mm_l5_fc1}\n",
    "    \n",
    "dmm_indices = np.mean(mm_data_l23[0]['L23_fc1'], axis=1).argsort()[::-1][:5]\n",
    "hmm_indices = np.mean(mm_data_l23[0]['L23_fc1'], axis=1).argsort()[::-1][-5:]\n",
    "plot_opto(mm_data_l23, dmm_indices, hmm_indices, l5_scales[-1], 'L23_fc1', 'l5_hmm_opto.svg', save_fig=False)"
   ]
  },
  {
   "cell_type": "code",
   "execution_count": 26,
   "metadata": {},
   "outputs": [
    {
     "name": "stdout",
     "output_type": "stream",
     "text": [
      "speeds=array([ 0.,  1.,  2.,  3.,  4.,  5.,  6.,  7.,  8.,  9., 10.])\n",
      "speeds=array([ 0.,  1.,  2.,  3.,  4.,  5.,  6.,  7.,  8.,  9., 10.])\n",
      "speeds=array([ 0.,  1.,  2.,  3.,  4.,  5.,  6.,  7.,  8.,  9., 10.])\n",
      "speeds=array([ 0.,  1.,  2.,  3.,  4.,  5.,  6.,  7.,  8.,  9., 10.])\n",
      "speeds=array([ 0.,  1.,  2.,  3.,  4.,  5.,  6.,  7.,  8.,  9., 10.])\n"
     ]
    },
    {
     "data": {
      "image/png": "[encoded data removed]",
      "text/plain": [
       "<Figure size 300x100 with 2 Axes>"
      ]
     },
     "metadata": {},
     "output_type": "display_data"
    }
   ],
   "source": [
    "## scale only dmm\n",
    "mm_data_l23 = {}\n",
    "l5_scales = [0, 20, 40, 60, 80]\n",
    "for l5_scale in l5_scales:\n",
    "\n",
    "    dataset = SyntheticVisualFlowDataset(num_samples=1000, dimensions=input_dim, max_value=max_value, var_scaler=var_scaler, speed_func=\"random_walk\", num_speeds=num_speeds)\n",
    "    dataloader_mm = DataLoader(dataset, batch_size=1, shuffle=False)\n",
    "\n",
    "    mm_toy = get_mm(net, dataloader_mm, recon_loss_coeff=0, l5_scale=l5_scale, l23_scale=0, l5_indices=l5_dmm_indices, l23_indices=None)\n",
    "    mm_l23_fc1 = (np.array(mm_toy['mm'][\"L2/3_fc1\"]) - np.array(mm_toy['baseline'][\"L2/3_fc1\"])).T\n",
    "    mm_l5_fc1 = (np.array(mm_toy['mm'][\"L5_fc1\"]) - np.array(mm_toy['baseline'][\"L5_fc1\"])).T\n",
    "    \n",
    "    mm_data_l23[l5_scale] = {\"L23_fc1\":mm_l23_fc1 , \"L5_fc1\":mm_l5_fc1}\n",
    "    \n",
    "dmm_indices = np.mean(mm_data_l23[0]['L23_fc1'], axis=1).argsort()[::-1][:5]\n",
    "hmm_indices = np.mean(mm_data_l23[0]['L23_fc1'], axis=1).argsort()[::-1][-5:]\n",
    "plot_opto(mm_data_l23, dmm_indices, hmm_indices, l5_scales[-1], 'L23_fc1', 'l5_dmm_opto.svg', save_fig=False)"
   ]
  },
  {
   "cell_type": "markdown",
   "metadata": {},
   "source": [
    "### simulate L2/3"
   ]
  },
  {
   "cell_type": "code",
   "execution_count": 27,
   "metadata": {},
   "outputs": [
    {
     "name": "stdout",
     "output_type": "stream",
     "text": [
      "speeds=array([ 0.,  1.,  2.,  3.,  4.,  5.,  6.,  7.,  8.,  9., 10.])\n",
      "speeds=array([ 0.,  1.,  2.,  3.,  4.,  5.,  6.,  7.,  8.,  9., 10.])\n",
      "speeds=array([ 0.,  1.,  2.,  3.,  4.,  5.,  6.,  7.,  8.,  9., 10.])\n",
      "speeds=array([ 0.,  1.,  2.,  3.,  4.,  5.,  6.,  7.,  8.,  9., 10.])\n",
      "speeds=array([ 0.,  1.,  2.,  3.,  4.,  5.,  6.,  7.,  8.,  9., 10.])\n"
     ]
    },
    {
     "data": {
      "image/png": "[encoded data removed]",
      "text/plain": [
       "<Figure size 300x100 with 2 Axes>"
      ]
     },
     "metadata": {},
     "output_type": "display_data"
    }
   ],
   "source": [
    "mm_data_l5 = {}\n",
    "l23_scales = [0, 4, 8, 10, 12]\n",
    "for l23_scale in l23_scales:\n",
    "\n",
    "    dataset = SyntheticVisualFlowDataset(num_samples=1000, dimensions=input_dim, max_value=max_value, var_scaler=var_scaler, speed_func=\"random_walk\", num_speeds=num_speeds)\n",
    "    dataloader_mm = DataLoader(dataset, batch_size=1, shuffle=False)\n",
    "    sub_group_mask = torch.zeros(1, args.hidden_dim)\n",
    "    sub_group_mask[:, :] = 1 ## all neurons are optoed\n",
    "    net.l23.l23_opto_mask = sub_group_mask\n",
    "    mm_toy = get_mm(net, dataloader_mm, recon_loss_coeff=0, l5_scale=0, l23_scale=l23_scale)\n",
    "    mm_l23_fc1 = (np.array(mm_toy['mm'][\"L2/3_fc1\"]) - np.array(mm_toy['baseline'][\"L2/3_fc1\"])).T\n",
    "    mm_l5_fc1 = (np.array(mm_toy['mm'][\"L5_fc1\"]) - np.array(mm_toy['baseline'][\"L5_fc1\"])).T\n",
    "    \n",
    "    mm_data_l5[l23_scale] = {\"L23_fc1\":mm_l23_fc1 , \"L5_fc1\":mm_l5_fc1}\n",
    "    \n",
    "dmm_indices = np.mean(mm_data_l5[0]['L5_fc1'], axis=1).argsort()[::-1][:1]\n",
    "hmm_indices = np.mean(mm_data_l5[0]['L5_fc1'], axis=1).argsort()[::-1][-2:]\n",
    "plot_opto(mm_data_l5, dmm_indices, hmm_indices, l23_scales[-4], 'L5_fc1', 'l23_opto.svg', save_fig=False)"
   ]
  },
  {
   "cell_type": "code",
   "execution_count": 35,
   "metadata": {},
   "outputs": [
    {
     "name": "stdout",
     "output_type": "stream",
     "text": [
      "(5, 16)\n",
      "[ 3  8 14] [ 0  1  2  4  6  9 11 15]\n",
      "[array([0.00154567, 0.45060706, 0.8361036 , 0.59681225, 0.9219987 ],\n",
      "      dtype=float32), array([-0.13857795, -1.5999212 , -2.7705817 , -2.0167928 , -3.057596  ],\n",
      "      dtype=float32)]\n",
      "   scale type      mean       std\n",
      "0      0  dmm  0.001546  0.002895\n",
      "1      4  dmm  0.450607  0.125842\n",
      "2      8  dmm  0.836104  0.236490\n",
      "3     10  dmm  0.596812  0.168396\n",
      "4     12  dmm  0.921999  0.260797\n",
      "5      0  hmm -0.138578  0.174040\n",
      "6      4  hmm -1.599921  1.743501\n",
      "7      8  hmm -2.770582  2.997976\n",
      "8     10  hmm -2.016793  2.186356\n",
      "9     12  hmm -3.057596  3.309399\n"
     ]
    },
    {
     "data": {
      "image/png": "[encoded data removed]",
      "text/plain": [
       "<Figure size 150x150 with 1 Axes>"
      ]
     },
     "metadata": {},
     "output_type": "display_data"
    }
   ],
   "source": [
    "mm_data_mean_l5 = {}\n",
    "for s in l23_scales:\n",
    "    mm_data_mean_l5[s] = np.mean(mm_data_l5[s]['L5_fc1'], axis=1)\n",
    "\n",
    "scale_data = []\n",
    "\n",
    "for scale in mm_data_l5.keys():\n",
    "    scale_data.append(mm_data_mean_l5[scale])\n",
    "scale_data = np.array(scale_data)\n",
    "print(scale_data.shape)\n",
    "\n",
    "import seaborn as sns\n",
    "import pandas as pd\n",
    "dmm_idx = np.where(np.mean(scale_data[:2, :], axis=0) > 0.1)[0]\n",
    "hmm_idx = np.where(np.mean(scale_data[:2, :], axis=0) < -0.1)[0]\n",
    "print(dmm_idx, hmm_idx)\n",
    "print([np.mean(scale_data[:, dmm_idx], axis=1), np.mean(scale_data[:, hmm_idx], axis=1)])\n",
    "df = pd.DataFrame(columns=['scale', 'type', 'mean', 'std'])\n",
    "df['scale'] = l23_scales * 2\n",
    "df['type'] = ['dmm']*len(l23_scales) + ['hmm']*len(l23_scales)\n",
    "df['mean'] = np.concatenate([np.mean(scale_data[:, dmm_idx], axis=1), np.mean(scale_data[:, hmm_idx], axis=1)])\n",
    "df['std'] = np.concatenate([np.std(scale_data[:, dmm_idx], axis=1), np.std(scale_data[:, hmm_idx], axis=1)])\n",
    "\n",
    "\n",
    "\n",
    "print(df)\n",
    "fig, ax = plt.subplots(figsize=(1.5, 1.5))\n",
    "# ensure the color of the line For dMM use the #b51460ff color and for hMM use the #3859a8ff color\n",
    "sns.lineplot(x=\"scale\", y=\"mean\", hue=\"type\", data=df, ax=ax, linewidth=2, style=\"type\", markers=[\"o\", \"v\"], markersize=6, dashes=False, palette=[\"gray\", \"#474747\"], errorbar=\"se\")\n",
    "\n",
    "ax.set_xlabel(\"L2/3 output scale\", fontsize=config.axis_fontsize)\n",
    "# add the error bar \n",
    "ax.errorbar(x=l23_scales, y=np.mean(scale_data[:, dmm_idx], axis=1), yerr=np.std(scale_data[:, dmm_idx], axis=1)/ np.sqrt(scale_data.shape[0]) , fmt='none', ecolor='gray', elinewidth=1, capsize=3)\n",
    "ax.errorbar(x=l23_scales, y=np.mean(scale_data[:, hmm_idx], axis=1), yerr=np.std(scale_data[:, hmm_idx], axis=1)/ np.sqrt(scale_data.shape[0]), fmt='none', ecolor='#474747', elinewidth=1, capsize=3)\n",
    "ax.set_ylabel(\"L5 prediction errors\", fontsize=config.axis_fontsize)\n",
    "\n",
    "ax.axhline(y=0, color='gray', linestyle='--', linewidth=1)\n",
    "# remove legend\n",
    "ax.legend_.remove()\n",
    "sns.despine()\n",
    "ax.tick_params(axis='both', which='major', labelsize=config.axis_fontsize)\n",
    "\n",
    "import matplotlib.lines as mlines\n",
    "# chnage font size of the label i mlines\n",
    "gray_circle = mlines.Line2D([], [], color='gray', marker='o', linestyle='None',\n",
    "                          markersize=3, label='positive')\n",
    "\n",
    "black_triangle = mlines.Line2D([], [], color='#474747', marker='v', linestyle='None',\n",
    "                          markersize=3, label='negative')\n",
    "\n",
    "marker_legend =plt.legend(handles=[gray_circle, black_triangle], title='', fontsize=config.axis_fontsize-1)\n",
    "save_fig=True\n",
    "if save_fig:\n",
    "    plt.savefig('saved_figs/opto_summary_scales_l5.svg', dpi=300, bbox_inches='tight')"
   ]
  },
  {
   "cell_type": "code",
   "execution_count": null,
   "metadata": {},
   "outputs": [],
   "source": [
    "# scale only hmm\n",
    "mm_data_l5 = {}\n",
    "l23_scales = [0, 4, 8, 10, 12]\n",
    "for l23_scale in l23_scales:\n",
    "\n",
    "    dataset = SyntheticVisualFlowDataset(num_samples=1000, dimensions=input_dim, max_value=max_value, var_scaler=var_scaler, speed_func=\"random_walk\", num_speeds=num_speeds)\n",
    "    dataloader_mm = DataLoader(dataset, batch_size=1, shuffle=False)\n",
    "    sub_group_mask = torch.zeros(1, args.hidden_dim)\n",
    "    sub_group_mask[:, l23_hmm_indices] = 1 ## all neurons are optoed\n",
    "    net.l23.l23_opto_mask = sub_group_mask\n",
    "    mm_toy = get_mm(net, dataloader_mm, recon_loss_coeff=0, l5_scale=0, l23_scale=l23_scale)\n",
    "    mm_l23_fc1 = (np.array(mm_toy['mm'][\"L2/3_fc1\"]) - np.array(mm_toy['baseline'][\"L2/3_fc1\"])).T\n",
    "    mm_l5_fc1 = (np.array(mm_toy['mm'][\"L5_fc1\"]) - np.array(mm_toy['baseline'][\"L5_fc1\"])).T\n",
    "    \n",
    "    mm_data_l5[l23_scale] = {\"L23_fc1\":mm_l23_fc1 , \"L5_fc1\":mm_l5_fc1}\n",
    "    \n",
    "dmm_indices = np.mean(mm_data_l5[0]['L5_fc1'], axis=1).argsort()[::-1][:1]\n",
    "hmm_indices = np.mean(mm_data_l5[0]['L5_fc1'], axis=1).argsort()[::-1][-2:]\n",
    "plot_opto(mm_data_l5, dmm_indices, hmm_indices, l23_scales[-4], 'L5_fc1', 'l23_hmm_opto.svg', save_fig=False)"
   ]
  },
  {
   "cell_type": "code",
   "execution_count": null,
   "metadata": {},
   "outputs": [],
   "source": [
    "# only dmm\n",
    "\n",
    "# scale only hmm\n",
    "mm_data_l5 = {}\n",
    "l23_scales = [0, 4, 8, 10, 12]\n",
    "for l23_scale in l23_scales:\n",
    "\n",
    "    dataset = SyntheticVisualFlowDataset(num_samples=1000, dimensions=input_dim, max_value=max_value, var_scaler=var_scaler, speed_func=\"random_walk\", num_speeds=num_speeds)\n",
    "    dataloader_mm = DataLoader(dataset, batch_size=1, shuffle=False)\n",
    "    sub_group_mask = torch.zeros(1, args.hidden_dim)\n",
    "    sub_group_mask[:, l23_dmm_indices] = 1 ## all neurons are optoed\n",
    "    net.l23.l23_opto_mask = sub_group_mask\n",
    "    mm_toy = get_mm(net, dataloader_mm, recon_loss_coeff=0, l5_scale=0, l23_scale=l23_scale)\n",
    "    mm_l23_fc1 = (np.array(mm_toy['mm'][\"L2/3_fc1\"]) - np.array(mm_toy['baseline'][\"L2/3_fc1\"])).T\n",
    "    mm_l5_fc1 = (np.array(mm_toy['mm'][\"L5_fc1\"]) - np.array(mm_toy['baseline'][\"L5_fc1\"])).T\n",
    "    \n",
    "    mm_data_l5[l23_scale] = {\"L23_fc1\":mm_l23_fc1 , \"L5_fc1\":mm_l5_fc1}\n",
    "    \n",
    "dmm_indices = np.mean(mm_data_l5[0]['L5_fc1'], axis=1).argsort()[::-1][:1]\n",
    "hmm_indices = np.mean(mm_data_l5[0]['L5_fc1'], axis=1).argsort()[::-1][-2:]\n",
    "plot_opto(mm_data_l5, dmm_indices, hmm_indices, l23_scales[-4], 'L5_fc1', 'l23_dmm_opto.svg', save_fig=False)"
   ]
  },
  {
   "cell_type": "code",
   "execution_count": null,
   "metadata": {},
   "outputs": [],
   "source": []
  },
  {
   "cell_type": "code",
   "execution_count": null,
   "metadata": {},
   "outputs": [],
   "source": []
  },
  {
   "cell_type": "code",
   "execution_count": null,
   "metadata": {},
   "outputs": [],
   "source": []
  },
  {
   "cell_type": "code",
   "execution_count": null,
   "metadata": {},
   "outputs": [],
   "source": []
  },
  {
   "cell_type": "markdown",
   "metadata": {},
   "source": [
    "## decoding speed"
   ]
  },
  {
   "cell_type": "code",
   "execution_count": null,
   "metadata": {},
   "outputs": [],
   "source": [
    "dataset_ = SyntheticVisualFlowDataset(num_samples=10000, dimensions=input_dim, max_value=max_value, var_scaler=var_scaler, speed_func=\"random_walk\", num_speeds=num_speeds)\n",
    "dataloader_ = DataLoader(dataset_, batch_size=10000, shuffle=False)\n",
    "dataloader_test = DataLoader(dataset_, batch_size=10000, shuffle=False)\n",
    "\n",
    "\n",
    "with torch.no_grad():\n",
    "    net.to(\"cpu\")\n",
    "    x1,x2,s1, s2  = next(iter(dataloader_))\n",
    "    x1 = x1.float()\n",
    "    x2 = x2.float()\n",
    "    s1 = s1.float()\n",
    "    s2 = s2.float()\n",
    "\n",
    "    x1_ = x1.view(x1.shape[0], -1).clone()\n",
    "    x2_ = x2.view(x2.shape[0], -1).clone()\n",
    "\n",
    "    # x1_ = torch.rand_like(x1_)\n",
    "    l4_out, l23_out, l5_pred, l5_out, recon = net(x1_, x2_, s2)\n",
    "    \n",
    "with torch.no_grad():\n",
    "    net.to(\"cpu\")\n",
    "    x1,x2,s1, s2  = next(iter(dataloader_test))\n",
    "    x1 = x1.float()\n",
    "    x2 = x2.float()\n",
    "    s1 = s1.float()\n",
    "    s2 = s2.float()\n",
    "\n",
    "    x1_ = x1.view(x1.shape[0], -1).clone()\n",
    "    x2_ = x2.view(x2.shape[0], -1).clone()\n",
    "\n",
    "    # x1_ = torch.zeros_like(x1_)\n",
    "    l4_out, l23_out_test, l5_pred, l5_out_test, recon = net(x1_, x2_, s2)"
   ]
  },
  {
   "cell_type": "code",
   "execution_count": null,
   "metadata": {},
   "outputs": [],
   "source": [
    "s2.squeeze()\n",
    "from sklearn.preprocessing import LabelEncoder\n",
    "le = LabelEncoder()\n",
    "le.fit(s1.squeeze().numpy())\n",
    "le.transform(s1.squeeze().numpy())"
   ]
  },
  {
   "cell_type": "code",
   "execution_count": null,
   "metadata": {},
   "outputs": [],
   "source": [
    "l23_out.shape, x1.min(), x1.max(), (s2.squeeze()*10).numpy().astype(int)"
   ]
  },
  {
   "cell_type": "code",
   "execution_count": null,
   "metadata": {},
   "outputs": [],
   "source": [
    "# import the class\n",
    "from sklearn.linear_model import LogisticRegression\n",
    "\n",
    "# instantiate the model (using the default parameters)\n",
    "logreg = LogisticRegression(random_state=16, max_iter=10000)\n",
    "\n",
    "# fit the model with data\n",
    "logreg.fit(l23_out.numpy(), le.transform(s1.squeeze().numpy()))\n",
    "\n",
    "y_pred = logreg.predict(l23_out_test.numpy())\n",
    "print(np.mean(y_pred == le.transform(s1.squeeze().numpy())))"
   ]
  },
  {
   "cell_type": "code",
   "execution_count": null,
   "metadata": {},
   "outputs": [],
   "source": []
  },
  {
   "cell_type": "markdown",
   "metadata": {},
   "source": [
    "## exp. data reproduction"
   ]
  },
  {
   "cell_type": "code",
   "execution_count": null,
   "metadata": {},
   "outputs": [],
   "source": [
    "speed_mm=np.array([\n",
    "[4.9903567984571, 3.5546218487394974],\n",
    "[3.375120540019253, 6.8823529411764675],\n",
    "[10.458052073288314, 4.084033613445378],\n",
    "[13.54146576663453, 1.8151260504201687],\n",
    "[13.784956605593067, 0.453781512605040],\n",
    "[18.70781099324975, 1.8907563025210088],\n",
    "[20.156702025072292, 2.344537815126049],\n",
    "[23.878977820636436, 2.117647058823529],\n",
    "[29.04291224686591, 2.117647058823529],\n",
    "[25.344744455159088, 3.100840336134453],\n",
    "[23.052073288331684, 3.176470588235293],\n",
    "[21.632111861137872, 3.630252100840334],\n",
    "[18.777724204435856, 4.084033613445378],\n",
    "[17.08534233365475, 4.99159663865546],\n",
    "[17.092574734811933, 5.218487394957984],\n",
    "[23.65477338476373, 4.084033613445378],\n",
    "[29.100771456123397, 3.932773109243697],\n",
    "[27.950819672131132, 3.857142857142857],\n",
    "[28.531822565091574, 4.084033613445378],\n",
    "[29.397299903567955, 4.235294117647058],\n",
    "[29.081485053037568, 3.327731092436973],\n",
    "[32.81340405014464, 3.4033613445378172],\n",
    "[33.1388621022179, 4.61344537815126],\n",
    "[31.41513982642232, 4.53781512605042],\n",
    "[32.285438765670165, 4.84033613445378],\n",
    "[30.274831243972983, 4.764705882352942],\n",
    "[28.56316297010605, 5.067226890756302],\n",
    "[26.851494696239115, 5.369747899159664],\n",
    "[30.595467695274806, 5.823529411764703],\n",
    "[32.01783992285439, 5.445378151260503],\n",
    "[34.31774349083892, 5.5966386554621845],\n",
    "[34.88428158148503, 5.369747899159664],\n",
    "[33.760848601735745, 6.126050420168065],\n",
    "[34.341851494696215, 6.352941176470587],\n",
    "[34.06943105110892, 6.806722689075629],\n",
    "[34.65043394406939, 7.033613445378149],\n",
    "[35.513500482160026, 7.109243697478991],\n",
    "[30.91369334619091, 6.806722689075629],\n",
    "[30.33269045323044, 6.579831932773107],\n",
    "[28.042430086788812, 6.731092436974787],\n",
    "[28.078592092574723, 7.865546218487394],\n",
    "[30.70395371263257, 9.22689075630252],\n",
    "[34.397299903567955, 8.092436974789914]])\n",
    "\n",
    "m, b = np.polyfit(speed_mm[:,0], speed_mm[:,1], 1)"
   ]
  },
  {
   "cell_type": "code",
   "execution_count": null,
   "metadata": {},
   "outputs": [],
   "source": [
    "fig, ax = plt.subplots(figsize=(1.3,1.3))\n",
    "ax.scatter(speed_mm[:,0], speed_mm[:,1], edgecolors='#af0e51', facecolors='none',s=15, linewidths=0.8 )\n",
    "plt.plot(speed_mm[:,0], m*speed_mm[:,0] + b, c='#af0e51')\n",
    "\n",
    "ax.set_xlabel('locomotion speed (cm/s)', fontsize=config.axis_fontsize)\n",
    "ax.set_ylabel('mismatch responses (mV)', fontsize=config.axis_fontsize)\n",
    "plt.xticks(fontsize=config.axis_fontsize)\n",
    "plt.yticks(fontsize=config.axis_fontsize)\n",
    "ax.axhline(0, color='k', linestyle='--', linewidth=1)\n",
    "\n",
    "ax.spines['right'].set_visible(False)\n",
    "ax.spines['top'].set_visible(False)\n",
    "# ax.set_xticklabels([])\n",
    "# ax.set_xticks([])\n",
    "# ax.set_yticklabels([])\n",
    "# ax.set_yticks([])\n",
    "plt.savefig('saved_figs/speed_mm_correlation_keller.svg', dpi=300)"
   ]
  },
  {
   "cell_type": "code",
   "execution_count": null,
   "metadata": {},
   "outputs": [],
   "source": [
    "# \"#23327b\" if layer == 'L5_fc1' else \"#af0e51\""
   ]
  },
  {
   "cell_type": "code",
   "execution_count": null,
   "metadata": {},
   "outputs": [],
   "source": [
    "speed_mm=np.array([\n",
    "[21.406250000000014, -6.801111111111112],\n",
    "[17.343749999999986, -5.443333333333335],\n",
    "[17.968750000000014, -2.3455555555555563],\n",
    "[14.21875, -3.332222222222228],\n",
    "[12.343750000000014, -2.172222222222217],\n",
    "[8.4375, -2.6266666666666723],\n",
    "[11.25, -0.6866666666666745],\n",
    "[14.53125, 0.5099999999999909],\n",
    "[10.78125, 1.54999999999999],\n",
    "[4.0625, 1.928888888888892]])\n",
    "m, b = np.polyfit(speed_mm[:,0], speed_mm[:,1], 1)\n",
    "fig, ax = plt.subplots(figsize=(1.3,1.3))\n",
    "ax.scatter(speed_mm[:,0], speed_mm[:,1], edgecolors='#23327b', facecolors='none',s=15, linewidths=0.8 )\n",
    "plt.plot(speed_mm[:,0], m*speed_mm[:,0] + b, c='#23327b')\n",
    "\n",
    "ax.set_xlabel('locomotion speed (cm/s)', fontsize=config.axis_fontsize)\n",
    "ax.set_ylabel('mismatch responses (mV)', fontsize=config.axis_fontsize)\n",
    "plt.xticks(fontsize=config.axis_fontsize)\n",
    "plt.yticks(fontsize=config.axis_fontsize)\n",
    "ax.axhline(0, color='k', linestyle='--', linewidth=1)\n",
    "\n",
    "ax.spines['right'].set_visible(False)\n",
    "ax.spines['top'].set_visible(False)\n",
    "# ax.set_xticklabels([])\n",
    "# ax.set_xticks([])\n",
    "# ax.set_yticklabels([])\n",
    "ax.set_yticks([0.0, -3, -6])\n",
    "plt.savefig('saved_figs/speed_mm_correlation_keller_hmm.svg',bbox_inches='tight', dpi=300)"
   ]
  },
  {
   "cell_type": "code",
   "execution_count": null,
   "metadata": {},
   "outputs": [],
   "source": []
  }
 ],
 "metadata": {
  "kernelspec": {
   "display_name": "torch-env",
   "language": "python",
   "name": "python3"
  },
  "language_info": {
   "codemirror_mode": {
    "name": "ipython",
    "version": 3
   },
   "file_extension": ".py",
   "mimetype": "text/x-python",
   "name": "python",
   "nbconvert_exporter": "python",
   "pygments_lexer": "ipython3",
   "version": "3.10.9"
  }
 },
 "nbformat": 4,
 "nbformat_minor": 2
}
